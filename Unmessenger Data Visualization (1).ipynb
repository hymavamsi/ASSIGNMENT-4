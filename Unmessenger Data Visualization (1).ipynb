{
 "cells": [
  {
   "cell_type": "markdown",
   "id": "01ca2f6f",
   "metadata": {},
   "source": [
    "# TASK : DATA VISUALIZATION"
   ]
  },
  {
   "cell_type": "markdown",
   "id": "1e3f52cc",
   "metadata": {},
   "source": [
    "# DONE BY : AKOJU HYMAVATHI"
   ]
  },
  {
   "cell_type": "markdown",
   "id": "98e3c57e",
   "metadata": {},
   "source": [
    "# INTERNSHIP : Unmessenger"
   ]
  },
  {
   "cell_type": "markdown",
   "id": "eb8089c9",
   "metadata": {},
   "source": [
    "# BATCH : 1203"
   ]
  },
  {
   "cell_type": "code",
   "execution_count": 76,
   "id": "5b891fd0",
   "metadata": {},
   "outputs": [],
   "source": [
    "# OBJECTIVE: \n",
    "# Performing EXPLORATORY DATA ANALYSIS with 10 different Data Visualizations in python"
   ]
  },
  {
   "cell_type": "markdown",
   "id": "9660b691",
   "metadata": {},
   "source": [
    "# IMPORTING LIBRARIES"
   ]
  },
  {
   "cell_type": "code",
   "execution_count": 1,
   "id": "4f42d26d",
   "metadata": {},
   "outputs": [],
   "source": [
    "import numpy as np\n",
    "import pandas as pd\n",
    "import seaborn as sns\n",
    "import matplotlib.pyplot as plt"
   ]
  },
  {
   "cell_type": "markdown",
   "id": "48b3cb2c",
   "metadata": {},
   "source": [
    "# IMPORTING THE DATA"
   ]
  },
  {
   "cell_type": "code",
   "execution_count": 2,
   "id": "349404a4",
   "metadata": {},
   "outputs": [
    {
     "data": {
      "text/html": [
       "<div>\n",
       "<style scoped>\n",
       "    .dataframe tbody tr th:only-of-type {\n",
       "        vertical-align: middle;\n",
       "    }\n",
       "\n",
       "    .dataframe tbody tr th {\n",
       "        vertical-align: top;\n",
       "    }\n",
       "\n",
       "    .dataframe thead th {\n",
       "        text-align: right;\n",
       "    }\n",
       "</style>\n",
       "<table border=\"1\" class=\"dataframe\">\n",
       "  <thead>\n",
       "    <tr style=\"text-align: right;\">\n",
       "      <th></th>\n",
       "      <th>id</th>\n",
       "      <th>name</th>\n",
       "      <th>host_id</th>\n",
       "      <th>host_name</th>\n",
       "      <th>neighbourhood_group</th>\n",
       "      <th>neighbourhood</th>\n",
       "      <th>latitude</th>\n",
       "      <th>longitude</th>\n",
       "      <th>room_type</th>\n",
       "      <th>price</th>\n",
       "      <th>minimum_nights</th>\n",
       "      <th>number_of_reviews</th>\n",
       "      <th>last_review</th>\n",
       "      <th>reviews_per_month</th>\n",
       "      <th>calculated_host_listings_count</th>\n",
       "      <th>availability_365</th>\n",
       "    </tr>\n",
       "  </thead>\n",
       "  <tbody>\n",
       "    <tr>\n",
       "      <th>0</th>\n",
       "      <td>2539</td>\n",
       "      <td>Clean &amp; quiet apt home by the park</td>\n",
       "      <td>2787</td>\n",
       "      <td>John</td>\n",
       "      <td>Brooklyn</td>\n",
       "      <td>Kensington</td>\n",
       "      <td>40.64749</td>\n",
       "      <td>-73.97237</td>\n",
       "      <td>Private room</td>\n",
       "      <td>149</td>\n",
       "      <td>1</td>\n",
       "      <td>9</td>\n",
       "      <td>10/19/2018</td>\n",
       "      <td>0.21</td>\n",
       "      <td>6</td>\n",
       "      <td>365</td>\n",
       "    </tr>\n",
       "    <tr>\n",
       "      <th>1</th>\n",
       "      <td>2595</td>\n",
       "      <td>Skylit Midtown Castle</td>\n",
       "      <td>2845</td>\n",
       "      <td>Jennifer</td>\n",
       "      <td>Manhattan</td>\n",
       "      <td>Midtown</td>\n",
       "      <td>40.75362</td>\n",
       "      <td>-73.98377</td>\n",
       "      <td>Entire home/apt</td>\n",
       "      <td>225</td>\n",
       "      <td>1</td>\n",
       "      <td>45</td>\n",
       "      <td>5/21/2019</td>\n",
       "      <td>0.38</td>\n",
       "      <td>2</td>\n",
       "      <td>355</td>\n",
       "    </tr>\n",
       "    <tr>\n",
       "      <th>2</th>\n",
       "      <td>3647</td>\n",
       "      <td>THE VILLAGE OF HARLEM....NEW YORK !</td>\n",
       "      <td>4632</td>\n",
       "      <td>Elisabeth</td>\n",
       "      <td>Manhattan</td>\n",
       "      <td>Harlem</td>\n",
       "      <td>40.80902</td>\n",
       "      <td>-73.94190</td>\n",
       "      <td>Private room</td>\n",
       "      <td>150</td>\n",
       "      <td>3</td>\n",
       "      <td>0</td>\n",
       "      <td>NaN</td>\n",
       "      <td>NaN</td>\n",
       "      <td>1</td>\n",
       "      <td>365</td>\n",
       "    </tr>\n",
       "    <tr>\n",
       "      <th>3</th>\n",
       "      <td>3831</td>\n",
       "      <td>Cozy Entire Floor of Brownstone</td>\n",
       "      <td>4869</td>\n",
       "      <td>LisaRoxanne</td>\n",
       "      <td>Brooklyn</td>\n",
       "      <td>Clinton Hill</td>\n",
       "      <td>40.68514</td>\n",
       "      <td>-73.95976</td>\n",
       "      <td>Entire home/apt</td>\n",
       "      <td>89</td>\n",
       "      <td>1</td>\n",
       "      <td>270</td>\n",
       "      <td>07-05-2019</td>\n",
       "      <td>4.64</td>\n",
       "      <td>1</td>\n",
       "      <td>194</td>\n",
       "    </tr>\n",
       "    <tr>\n",
       "      <th>4</th>\n",
       "      <td>5022</td>\n",
       "      <td>Entire Apt: Spacious Studio/Loft by central park</td>\n",
       "      <td>7192</td>\n",
       "      <td>Laura</td>\n",
       "      <td>Manhattan</td>\n",
       "      <td>East Harlem</td>\n",
       "      <td>40.79851</td>\n",
       "      <td>-73.94399</td>\n",
       "      <td>Entire home/apt</td>\n",
       "      <td>80</td>\n",
       "      <td>10</td>\n",
       "      <td>9</td>\n",
       "      <td>11/19/2018</td>\n",
       "      <td>0.10</td>\n",
       "      <td>1</td>\n",
       "      <td>0</td>\n",
       "    </tr>\n",
       "    <tr>\n",
       "      <th>...</th>\n",
       "      <td>...</td>\n",
       "      <td>...</td>\n",
       "      <td>...</td>\n",
       "      <td>...</td>\n",
       "      <td>...</td>\n",
       "      <td>...</td>\n",
       "      <td>...</td>\n",
       "      <td>...</td>\n",
       "      <td>...</td>\n",
       "      <td>...</td>\n",
       "      <td>...</td>\n",
       "      <td>...</td>\n",
       "      <td>...</td>\n",
       "      <td>...</td>\n",
       "      <td>...</td>\n",
       "      <td>...</td>\n",
       "    </tr>\n",
       "    <tr>\n",
       "      <th>244</th>\n",
       "      <td>61492</td>\n",
       "      <td>Exclusive Room with Private Bath in  LES</td>\n",
       "      <td>297769</td>\n",
       "      <td>Tunji</td>\n",
       "      <td>Manhattan</td>\n",
       "      <td>Chinatown</td>\n",
       "      <td>40.71445</td>\n",
       "      <td>-73.99080</td>\n",
       "      <td>Private room</td>\n",
       "      <td>120</td>\n",
       "      <td>4</td>\n",
       "      <td>171</td>\n",
       "      <td>6/23/2019</td>\n",
       "      <td>1.80</td>\n",
       "      <td>2</td>\n",
       "      <td>353</td>\n",
       "    </tr>\n",
       "    <tr>\n",
       "      <th>245</th>\n",
       "      <td>61509</td>\n",
       "      <td>Quiet, clean midtown apt w. elevato</td>\n",
       "      <td>23619</td>\n",
       "      <td>Anna/Fonzy</td>\n",
       "      <td>Manhattan</td>\n",
       "      <td>Midtown</td>\n",
       "      <td>40.75749</td>\n",
       "      <td>-73.96897</td>\n",
       "      <td>Entire home/apt</td>\n",
       "      <td>110</td>\n",
       "      <td>200</td>\n",
       "      <td>92</td>\n",
       "      <td>4/30/2019</td>\n",
       "      <td>0.90</td>\n",
       "      <td>1</td>\n",
       "      <td>140</td>\n",
       "    </tr>\n",
       "    <tr>\n",
       "      <th>246</th>\n",
       "      <td>62095</td>\n",
       "      <td>BK Sweet Suite w/Kitchen&amp;FullBath</td>\n",
       "      <td>281764</td>\n",
       "      <td>Colette&amp;Sean</td>\n",
       "      <td>Brooklyn</td>\n",
       "      <td>East Flatbush</td>\n",
       "      <td>40.64446</td>\n",
       "      <td>-73.95030</td>\n",
       "      <td>Entire home/apt</td>\n",
       "      <td>65</td>\n",
       "      <td>3</td>\n",
       "      <td>238</td>\n",
       "      <td>6/14/2019</td>\n",
       "      <td>2.30</td>\n",
       "      <td>1</td>\n",
       "      <td>2</td>\n",
       "    </tr>\n",
       "    <tr>\n",
       "      <th>247</th>\n",
       "      <td>62427</td>\n",
       "      <td>Great East Village Apartment Rental</td>\n",
       "      <td>303882</td>\n",
       "      <td>Brie</td>\n",
       "      <td>Manhattan</td>\n",
       "      <td>East Village</td>\n",
       "      <td>40.72680</td>\n",
       "      <td>-73.99079</td>\n",
       "      <td>Entire home/apt</td>\n",
       "      <td>130</td>\n",
       "      <td>50</td>\n",
       "      <td>56</td>\n",
       "      <td>5/26/2019</td>\n",
       "      <td>0.58</td>\n",
       "      <td>1</td>\n",
       "      <td>56</td>\n",
       "    </tr>\n",
       "    <tr>\n",
       "      <th>248</th>\n",
       "      <td>62430</td>\n",
       "      <td>BROWNSTONE SUNDRENCHED BEAUTY</td>\n",
       "      <td>197755</td>\n",
       "      <td>Sheila</td>\n",
       "      <td>Brooklyn</td>\n",
       "      <td>Bushwick</td>\n",
       "      <td>40.68800</td>\n",
       "      <td>-73.91710</td>\n",
       "      <td>Entire home/apt</td>\n",
       "      <td>99</td>\n",
       "      <td>3</td>\n",
       "      <td>111</td>\n",
       "      <td>6/22/2019</td>\n",
       "      <td>2.13</td>\n",
       "      <td>1</td>\n",
       "      <td>68</td>\n",
       "    </tr>\n",
       "  </tbody>\n",
       "</table>\n",
       "<p>249 rows × 16 columns</p>\n",
       "</div>"
      ],
      "text/plain": [
       "        id                                              name  host_id  \\\n",
       "0     2539                Clean & quiet apt home by the park     2787   \n",
       "1     2595                             Skylit Midtown Castle     2845   \n",
       "2     3647               THE VILLAGE OF HARLEM....NEW YORK !     4632   \n",
       "3     3831                   Cozy Entire Floor of Brownstone     4869   \n",
       "4     5022  Entire Apt: Spacious Studio/Loft by central park     7192   \n",
       "..     ...                                               ...      ...   \n",
       "244  61492          Exclusive Room with Private Bath in  LES   297769   \n",
       "245  61509               Quiet, clean midtown apt w. elevato    23619   \n",
       "246  62095                 BK Sweet Suite w/Kitchen&FullBath   281764   \n",
       "247  62427               Great East Village Apartment Rental   303882   \n",
       "248  62430                     BROWNSTONE SUNDRENCHED BEAUTY   197755   \n",
       "\n",
       "        host_name neighbourhood_group  neighbourhood  latitude  longitude  \\\n",
       "0            John            Brooklyn     Kensington  40.64749  -73.97237   \n",
       "1        Jennifer           Manhattan        Midtown  40.75362  -73.98377   \n",
       "2       Elisabeth           Manhattan         Harlem  40.80902  -73.94190   \n",
       "3     LisaRoxanne            Brooklyn   Clinton Hill  40.68514  -73.95976   \n",
       "4           Laura           Manhattan    East Harlem  40.79851  -73.94399   \n",
       "..            ...                 ...            ...       ...        ...   \n",
       "244         Tunji           Manhattan      Chinatown  40.71445  -73.99080   \n",
       "245    Anna/Fonzy           Manhattan        Midtown  40.75749  -73.96897   \n",
       "246  Colette&Sean            Brooklyn  East Flatbush  40.64446  -73.95030   \n",
       "247          Brie           Manhattan   East Village  40.72680  -73.99079   \n",
       "248        Sheila            Brooklyn       Bushwick  40.68800  -73.91710   \n",
       "\n",
       "           room_type  price  minimum_nights  number_of_reviews last_review  \\\n",
       "0       Private room    149               1                  9  10/19/2018   \n",
       "1    Entire home/apt    225               1                 45   5/21/2019   \n",
       "2       Private room    150               3                  0         NaN   \n",
       "3    Entire home/apt     89               1                270  07-05-2019   \n",
       "4    Entire home/apt     80              10                  9  11/19/2018   \n",
       "..               ...    ...             ...                ...         ...   \n",
       "244     Private room    120               4                171   6/23/2019   \n",
       "245  Entire home/apt    110             200                 92   4/30/2019   \n",
       "246  Entire home/apt     65               3                238   6/14/2019   \n",
       "247  Entire home/apt    130              50                 56   5/26/2019   \n",
       "248  Entire home/apt     99               3                111   6/22/2019   \n",
       "\n",
       "     reviews_per_month  calculated_host_listings_count  availability_365  \n",
       "0                 0.21                               6               365  \n",
       "1                 0.38                               2               355  \n",
       "2                  NaN                               1               365  \n",
       "3                 4.64                               1               194  \n",
       "4                 0.10                               1                 0  \n",
       "..                 ...                             ...               ...  \n",
       "244               1.80                               2               353  \n",
       "245               0.90                               1               140  \n",
       "246               2.30                               1                 2  \n",
       "247               0.58                               1                56  \n",
       "248               2.13                               1                68  \n",
       "\n",
       "[249 rows x 16 columns]"
      ]
     },
     "execution_count": 2,
     "metadata": {},
     "output_type": "execute_result"
    }
   ],
   "source": [
    "df= pd.read_csv(r\"C:\\Users\\Admin\\Desktop\\Airbnb Dataset 19.csv\")\n",
    "df"
   ]
  },
  {
   "cell_type": "markdown",
   "id": "57209656",
   "metadata": {},
   "source": [
    "# DATA PRE-PROCESSING"
   ]
  },
  {
   "cell_type": "code",
   "execution_count": 3,
   "id": "1f70fafe",
   "metadata": {},
   "outputs": [
    {
     "data": {
      "text/plain": [
       "(249, 16)"
      ]
     },
     "execution_count": 3,
     "metadata": {},
     "output_type": "execute_result"
    }
   ],
   "source": [
    "df.shape"
   ]
  },
  {
   "cell_type": "code",
   "execution_count": 4,
   "id": "939f74b6",
   "metadata": {},
   "outputs": [
    {
     "data": {
      "text/plain": [
       "3984"
      ]
     },
     "execution_count": 4,
     "metadata": {},
     "output_type": "execute_result"
    }
   ],
   "source": [
    "df.size"
   ]
  },
  {
   "cell_type": "code",
   "execution_count": 5,
   "id": "69d298af",
   "metadata": {},
   "outputs": [
    {
     "data": {
      "text/html": [
       "<div>\n",
       "<style scoped>\n",
       "    .dataframe tbody tr th:only-of-type {\n",
       "        vertical-align: middle;\n",
       "    }\n",
       "\n",
       "    .dataframe tbody tr th {\n",
       "        vertical-align: top;\n",
       "    }\n",
       "\n",
       "    .dataframe thead th {\n",
       "        text-align: right;\n",
       "    }\n",
       "</style>\n",
       "<table border=\"1\" class=\"dataframe\">\n",
       "  <thead>\n",
       "    <tr style=\"text-align: right;\">\n",
       "      <th></th>\n",
       "      <th>id</th>\n",
       "      <th>name</th>\n",
       "      <th>host_id</th>\n",
       "      <th>host_name</th>\n",
       "      <th>neighbourhood_group</th>\n",
       "      <th>neighbourhood</th>\n",
       "      <th>latitude</th>\n",
       "      <th>longitude</th>\n",
       "      <th>room_type</th>\n",
       "      <th>price</th>\n",
       "      <th>minimum_nights</th>\n",
       "      <th>number_of_reviews</th>\n",
       "      <th>last_review</th>\n",
       "      <th>reviews_per_month</th>\n",
       "      <th>calculated_host_listings_count</th>\n",
       "      <th>availability_365</th>\n",
       "    </tr>\n",
       "  </thead>\n",
       "  <tbody>\n",
       "    <tr>\n",
       "      <th>0</th>\n",
       "      <td>2539</td>\n",
       "      <td>Clean &amp; quiet apt home by the park</td>\n",
       "      <td>2787</td>\n",
       "      <td>John</td>\n",
       "      <td>Brooklyn</td>\n",
       "      <td>Kensington</td>\n",
       "      <td>40.64749</td>\n",
       "      <td>-73.97237</td>\n",
       "      <td>Private room</td>\n",
       "      <td>149</td>\n",
       "      <td>1</td>\n",
       "      <td>9</td>\n",
       "      <td>10/19/2018</td>\n",
       "      <td>0.21</td>\n",
       "      <td>6</td>\n",
       "      <td>365</td>\n",
       "    </tr>\n",
       "    <tr>\n",
       "      <th>1</th>\n",
       "      <td>2595</td>\n",
       "      <td>Skylit Midtown Castle</td>\n",
       "      <td>2845</td>\n",
       "      <td>Jennifer</td>\n",
       "      <td>Manhattan</td>\n",
       "      <td>Midtown</td>\n",
       "      <td>40.75362</td>\n",
       "      <td>-73.98377</td>\n",
       "      <td>Entire home/apt</td>\n",
       "      <td>225</td>\n",
       "      <td>1</td>\n",
       "      <td>45</td>\n",
       "      <td>5/21/2019</td>\n",
       "      <td>0.38</td>\n",
       "      <td>2</td>\n",
       "      <td>355</td>\n",
       "    </tr>\n",
       "    <tr>\n",
       "      <th>2</th>\n",
       "      <td>3647</td>\n",
       "      <td>THE VILLAGE OF HARLEM....NEW YORK !</td>\n",
       "      <td>4632</td>\n",
       "      <td>Elisabeth</td>\n",
       "      <td>Manhattan</td>\n",
       "      <td>Harlem</td>\n",
       "      <td>40.80902</td>\n",
       "      <td>-73.94190</td>\n",
       "      <td>Private room</td>\n",
       "      <td>150</td>\n",
       "      <td>3</td>\n",
       "      <td>0</td>\n",
       "      <td>NaN</td>\n",
       "      <td>NaN</td>\n",
       "      <td>1</td>\n",
       "      <td>365</td>\n",
       "    </tr>\n",
       "    <tr>\n",
       "      <th>3</th>\n",
       "      <td>3831</td>\n",
       "      <td>Cozy Entire Floor of Brownstone</td>\n",
       "      <td>4869</td>\n",
       "      <td>LisaRoxanne</td>\n",
       "      <td>Brooklyn</td>\n",
       "      <td>Clinton Hill</td>\n",
       "      <td>40.68514</td>\n",
       "      <td>-73.95976</td>\n",
       "      <td>Entire home/apt</td>\n",
       "      <td>89</td>\n",
       "      <td>1</td>\n",
       "      <td>270</td>\n",
       "      <td>07-05-2019</td>\n",
       "      <td>4.64</td>\n",
       "      <td>1</td>\n",
       "      <td>194</td>\n",
       "    </tr>\n",
       "    <tr>\n",
       "      <th>4</th>\n",
       "      <td>5022</td>\n",
       "      <td>Entire Apt: Spacious Studio/Loft by central park</td>\n",
       "      <td>7192</td>\n",
       "      <td>Laura</td>\n",
       "      <td>Manhattan</td>\n",
       "      <td>East Harlem</td>\n",
       "      <td>40.79851</td>\n",
       "      <td>-73.94399</td>\n",
       "      <td>Entire home/apt</td>\n",
       "      <td>80</td>\n",
       "      <td>10</td>\n",
       "      <td>9</td>\n",
       "      <td>11/19/2018</td>\n",
       "      <td>0.10</td>\n",
       "      <td>1</td>\n",
       "      <td>0</td>\n",
       "    </tr>\n",
       "  </tbody>\n",
       "</table>\n",
       "</div>"
      ],
      "text/plain": [
       "     id                                              name  host_id  \\\n",
       "0  2539                Clean & quiet apt home by the park     2787   \n",
       "1  2595                             Skylit Midtown Castle     2845   \n",
       "2  3647               THE VILLAGE OF HARLEM....NEW YORK !     4632   \n",
       "3  3831                   Cozy Entire Floor of Brownstone     4869   \n",
       "4  5022  Entire Apt: Spacious Studio/Loft by central park     7192   \n",
       "\n",
       "     host_name neighbourhood_group neighbourhood  latitude  longitude  \\\n",
       "0         John            Brooklyn    Kensington  40.64749  -73.97237   \n",
       "1     Jennifer           Manhattan       Midtown  40.75362  -73.98377   \n",
       "2    Elisabeth           Manhattan        Harlem  40.80902  -73.94190   \n",
       "3  LisaRoxanne            Brooklyn  Clinton Hill  40.68514  -73.95976   \n",
       "4        Laura           Manhattan   East Harlem  40.79851  -73.94399   \n",
       "\n",
       "         room_type  price  minimum_nights  number_of_reviews last_review  \\\n",
       "0     Private room    149               1                  9  10/19/2018   \n",
       "1  Entire home/apt    225               1                 45   5/21/2019   \n",
       "2     Private room    150               3                  0         NaN   \n",
       "3  Entire home/apt     89               1                270  07-05-2019   \n",
       "4  Entire home/apt     80              10                  9  11/19/2018   \n",
       "\n",
       "   reviews_per_month  calculated_host_listings_count  availability_365  \n",
       "0               0.21                               6               365  \n",
       "1               0.38                               2               355  \n",
       "2                NaN                               1               365  \n",
       "3               4.64                               1               194  \n",
       "4               0.10                               1                 0  "
      ]
     },
     "execution_count": 5,
     "metadata": {},
     "output_type": "execute_result"
    }
   ],
   "source": [
    "df.head()"
   ]
  },
  {
   "cell_type": "code",
   "execution_count": 6,
   "id": "737ca1d3",
   "metadata": {
    "scrolled": true
   },
   "outputs": [
    {
     "data": {
      "text/html": [
       "<div>\n",
       "<style scoped>\n",
       "    .dataframe tbody tr th:only-of-type {\n",
       "        vertical-align: middle;\n",
       "    }\n",
       "\n",
       "    .dataframe tbody tr th {\n",
       "        vertical-align: top;\n",
       "    }\n",
       "\n",
       "    .dataframe thead th {\n",
       "        text-align: right;\n",
       "    }\n",
       "</style>\n",
       "<table border=\"1\" class=\"dataframe\">\n",
       "  <thead>\n",
       "    <tr style=\"text-align: right;\">\n",
       "      <th></th>\n",
       "      <th>id</th>\n",
       "      <th>name</th>\n",
       "      <th>host_id</th>\n",
       "      <th>host_name</th>\n",
       "      <th>neighbourhood_group</th>\n",
       "      <th>neighbourhood</th>\n",
       "      <th>latitude</th>\n",
       "      <th>longitude</th>\n",
       "      <th>room_type</th>\n",
       "      <th>price</th>\n",
       "      <th>minimum_nights</th>\n",
       "      <th>number_of_reviews</th>\n",
       "      <th>last_review</th>\n",
       "      <th>reviews_per_month</th>\n",
       "      <th>calculated_host_listings_count</th>\n",
       "      <th>availability_365</th>\n",
       "    </tr>\n",
       "  </thead>\n",
       "  <tbody>\n",
       "    <tr>\n",
       "      <th>244</th>\n",
       "      <td>61492</td>\n",
       "      <td>Exclusive Room with Private Bath in  LES</td>\n",
       "      <td>297769</td>\n",
       "      <td>Tunji</td>\n",
       "      <td>Manhattan</td>\n",
       "      <td>Chinatown</td>\n",
       "      <td>40.71445</td>\n",
       "      <td>-73.99080</td>\n",
       "      <td>Private room</td>\n",
       "      <td>120</td>\n",
       "      <td>4</td>\n",
       "      <td>171</td>\n",
       "      <td>6/23/2019</td>\n",
       "      <td>1.80</td>\n",
       "      <td>2</td>\n",
       "      <td>353</td>\n",
       "    </tr>\n",
       "    <tr>\n",
       "      <th>245</th>\n",
       "      <td>61509</td>\n",
       "      <td>Quiet, clean midtown apt w. elevato</td>\n",
       "      <td>23619</td>\n",
       "      <td>Anna/Fonzy</td>\n",
       "      <td>Manhattan</td>\n",
       "      <td>Midtown</td>\n",
       "      <td>40.75749</td>\n",
       "      <td>-73.96897</td>\n",
       "      <td>Entire home/apt</td>\n",
       "      <td>110</td>\n",
       "      <td>200</td>\n",
       "      <td>92</td>\n",
       "      <td>4/30/2019</td>\n",
       "      <td>0.90</td>\n",
       "      <td>1</td>\n",
       "      <td>140</td>\n",
       "    </tr>\n",
       "    <tr>\n",
       "      <th>246</th>\n",
       "      <td>62095</td>\n",
       "      <td>BK Sweet Suite w/Kitchen&amp;FullBath</td>\n",
       "      <td>281764</td>\n",
       "      <td>Colette&amp;Sean</td>\n",
       "      <td>Brooklyn</td>\n",
       "      <td>East Flatbush</td>\n",
       "      <td>40.64446</td>\n",
       "      <td>-73.95030</td>\n",
       "      <td>Entire home/apt</td>\n",
       "      <td>65</td>\n",
       "      <td>3</td>\n",
       "      <td>238</td>\n",
       "      <td>6/14/2019</td>\n",
       "      <td>2.30</td>\n",
       "      <td>1</td>\n",
       "      <td>2</td>\n",
       "    </tr>\n",
       "    <tr>\n",
       "      <th>247</th>\n",
       "      <td>62427</td>\n",
       "      <td>Great East Village Apartment Rental</td>\n",
       "      <td>303882</td>\n",
       "      <td>Brie</td>\n",
       "      <td>Manhattan</td>\n",
       "      <td>East Village</td>\n",
       "      <td>40.72680</td>\n",
       "      <td>-73.99079</td>\n",
       "      <td>Entire home/apt</td>\n",
       "      <td>130</td>\n",
       "      <td>50</td>\n",
       "      <td>56</td>\n",
       "      <td>5/26/2019</td>\n",
       "      <td>0.58</td>\n",
       "      <td>1</td>\n",
       "      <td>56</td>\n",
       "    </tr>\n",
       "    <tr>\n",
       "      <th>248</th>\n",
       "      <td>62430</td>\n",
       "      <td>BROWNSTONE SUNDRENCHED BEAUTY</td>\n",
       "      <td>197755</td>\n",
       "      <td>Sheila</td>\n",
       "      <td>Brooklyn</td>\n",
       "      <td>Bushwick</td>\n",
       "      <td>40.68800</td>\n",
       "      <td>-73.91710</td>\n",
       "      <td>Entire home/apt</td>\n",
       "      <td>99</td>\n",
       "      <td>3</td>\n",
       "      <td>111</td>\n",
       "      <td>6/22/2019</td>\n",
       "      <td>2.13</td>\n",
       "      <td>1</td>\n",
       "      <td>68</td>\n",
       "    </tr>\n",
       "  </tbody>\n",
       "</table>\n",
       "</div>"
      ],
      "text/plain": [
       "        id                                      name  host_id     host_name  \\\n",
       "244  61492  Exclusive Room with Private Bath in  LES   297769         Tunji   \n",
       "245  61509       Quiet, clean midtown apt w. elevato    23619    Anna/Fonzy   \n",
       "246  62095         BK Sweet Suite w/Kitchen&FullBath   281764  Colette&Sean   \n",
       "247  62427       Great East Village Apartment Rental   303882          Brie   \n",
       "248  62430             BROWNSTONE SUNDRENCHED BEAUTY   197755        Sheila   \n",
       "\n",
       "    neighbourhood_group  neighbourhood  latitude  longitude        room_type  \\\n",
       "244           Manhattan      Chinatown  40.71445  -73.99080     Private room   \n",
       "245           Manhattan        Midtown  40.75749  -73.96897  Entire home/apt   \n",
       "246            Brooklyn  East Flatbush  40.64446  -73.95030  Entire home/apt   \n",
       "247           Manhattan   East Village  40.72680  -73.99079  Entire home/apt   \n",
       "248            Brooklyn       Bushwick  40.68800  -73.91710  Entire home/apt   \n",
       "\n",
       "     price  minimum_nights  number_of_reviews last_review  reviews_per_month  \\\n",
       "244    120               4                171   6/23/2019               1.80   \n",
       "245    110             200                 92   4/30/2019               0.90   \n",
       "246     65               3                238   6/14/2019               2.30   \n",
       "247    130              50                 56   5/26/2019               0.58   \n",
       "248     99               3                111   6/22/2019               2.13   \n",
       "\n",
       "     calculated_host_listings_count  availability_365  \n",
       "244                               2               353  \n",
       "245                               1               140  \n",
       "246                               1                 2  \n",
       "247                               1                56  \n",
       "248                               1                68  "
      ]
     },
     "execution_count": 6,
     "metadata": {},
     "output_type": "execute_result"
    }
   ],
   "source": [
    "df.tail()"
   ]
  },
  {
   "cell_type": "code",
   "execution_count": 7,
   "id": "dfb3930a",
   "metadata": {},
   "outputs": [
    {
     "data": {
      "text/plain": [
       "Index(['id', 'name', 'host_id', 'host_name', 'neighbourhood_group',\n",
       "       'neighbourhood', 'latitude', 'longitude', 'room_type', 'price',\n",
       "       'minimum_nights', 'number_of_reviews', 'last_review',\n",
       "       'reviews_per_month', 'calculated_host_listings_count',\n",
       "       'availability_365'],\n",
       "      dtype='object')"
      ]
     },
     "execution_count": 7,
     "metadata": {},
     "output_type": "execute_result"
    }
   ],
   "source": [
    "df.columns"
   ]
  },
  {
   "cell_type": "code",
   "execution_count": 8,
   "id": "2748ac04",
   "metadata": {},
   "outputs": [],
   "source": [
    "# change the names of columns \"name\""
   ]
  },
  {
   "cell_type": "code",
   "execution_count": 9,
   "id": "9387bb6f",
   "metadata": {},
   "outputs": [],
   "source": [
    "df=df.rename(columns={\"name\":\"name_of_the_stay\"})"
   ]
  },
  {
   "cell_type": "code",
   "execution_count": 10,
   "id": "4bff6082",
   "metadata": {},
   "outputs": [
    {
     "data": {
      "text/plain": [
       "Index(['id', 'name_of_the_stay', 'host_id', 'host_name', 'neighbourhood_group',\n",
       "       'neighbourhood', 'latitude', 'longitude', 'room_type', 'price',\n",
       "       'minimum_nights', 'number_of_reviews', 'last_review',\n",
       "       'reviews_per_month', 'calculated_host_listings_count',\n",
       "       'availability_365'],\n",
       "      dtype='object')"
      ]
     },
     "execution_count": 10,
     "metadata": {},
     "output_type": "execute_result"
    }
   ],
   "source": [
    "df.columns"
   ]
  },
  {
   "cell_type": "code",
   "execution_count": 11,
   "id": "cd6c3ace",
   "metadata": {},
   "outputs": [],
   "source": [
    "# Get the basic information of data"
   ]
  },
  {
   "cell_type": "code",
   "execution_count": 12,
   "id": "be3e6d8c",
   "metadata": {},
   "outputs": [
    {
     "name": "stdout",
     "output_type": "stream",
     "text": [
      "<class 'pandas.core.frame.DataFrame'>\n",
      "RangeIndex: 249 entries, 0 to 248\n",
      "Data columns (total 16 columns):\n",
      " #   Column                          Non-Null Count  Dtype  \n",
      "---  ------                          --------------  -----  \n",
      " 0   id                              249 non-null    int64  \n",
      " 1   name_of_the_stay                249 non-null    object \n",
      " 2   host_id                         249 non-null    int64  \n",
      " 3   host_name                       249 non-null    object \n",
      " 4   neighbourhood_group             249 non-null    object \n",
      " 5   neighbourhood                   249 non-null    object \n",
      " 6   latitude                        249 non-null    float64\n",
      " 7   longitude                       249 non-null    float64\n",
      " 8   room_type                       249 non-null    object \n",
      " 9   price                           249 non-null    int64  \n",
      " 10  minimum_nights                  249 non-null    int64  \n",
      " 11  number_of_reviews               249 non-null    int64  \n",
      " 12  last_review                     242 non-null    object \n",
      " 13  reviews_per_month               242 non-null    float64\n",
      " 14  calculated_host_listings_count  249 non-null    int64  \n",
      " 15  availability_365                249 non-null    int64  \n",
      "dtypes: float64(3), int64(7), object(6)\n",
      "memory usage: 31.2+ KB\n"
     ]
    }
   ],
   "source": [
    "df.info()"
   ]
  },
  {
   "cell_type": "code",
   "execution_count": 13,
   "id": "0493f862",
   "metadata": {},
   "outputs": [
    {
     "data": {
      "text/plain": [
       "<bound method NDFrame.describe of         id                                  name_of_the_stay  host_id  \\\n",
       "0     2539                Clean & quiet apt home by the park     2787   \n",
       "1     2595                             Skylit Midtown Castle     2845   \n",
       "2     3647               THE VILLAGE OF HARLEM....NEW YORK !     4632   \n",
       "3     3831                   Cozy Entire Floor of Brownstone     4869   \n",
       "4     5022  Entire Apt: Spacious Studio/Loft by central park     7192   \n",
       "..     ...                                               ...      ...   \n",
       "244  61492          Exclusive Room with Private Bath in  LES   297769   \n",
       "245  61509               Quiet, clean midtown apt w. elevato    23619   \n",
       "246  62095                 BK Sweet Suite w/Kitchen&FullBath   281764   \n",
       "247  62427               Great East Village Apartment Rental   303882   \n",
       "248  62430                     BROWNSTONE SUNDRENCHED BEAUTY   197755   \n",
       "\n",
       "        host_name neighbourhood_group  neighbourhood  latitude  longitude  \\\n",
       "0            John            Brooklyn     Kensington  40.64749  -73.97237   \n",
       "1        Jennifer           Manhattan        Midtown  40.75362  -73.98377   \n",
       "2       Elisabeth           Manhattan         Harlem  40.80902  -73.94190   \n",
       "3     LisaRoxanne            Brooklyn   Clinton Hill  40.68514  -73.95976   \n",
       "4           Laura           Manhattan    East Harlem  40.79851  -73.94399   \n",
       "..            ...                 ...            ...       ...        ...   \n",
       "244         Tunji           Manhattan      Chinatown  40.71445  -73.99080   \n",
       "245    Anna/Fonzy           Manhattan        Midtown  40.75749  -73.96897   \n",
       "246  Colette&Sean            Brooklyn  East Flatbush  40.64446  -73.95030   \n",
       "247          Brie           Manhattan   East Village  40.72680  -73.99079   \n",
       "248        Sheila            Brooklyn       Bushwick  40.68800  -73.91710   \n",
       "\n",
       "           room_type  price  minimum_nights  number_of_reviews last_review  \\\n",
       "0       Private room    149               1                  9  10/19/2018   \n",
       "1    Entire home/apt    225               1                 45   5/21/2019   \n",
       "2       Private room    150               3                  0         NaN   \n",
       "3    Entire home/apt     89               1                270  07-05-2019   \n",
       "4    Entire home/apt     80              10                  9  11/19/2018   \n",
       "..               ...    ...             ...                ...         ...   \n",
       "244     Private room    120               4                171   6/23/2019   \n",
       "245  Entire home/apt    110             200                 92   4/30/2019   \n",
       "246  Entire home/apt     65               3                238   6/14/2019   \n",
       "247  Entire home/apt    130              50                 56   5/26/2019   \n",
       "248  Entire home/apt     99               3                111   6/22/2019   \n",
       "\n",
       "     reviews_per_month  calculated_host_listings_count  availability_365  \n",
       "0                 0.21                               6               365  \n",
       "1                 0.38                               2               355  \n",
       "2                  NaN                               1               365  \n",
       "3                 4.64                               1               194  \n",
       "4                 0.10                               1                 0  \n",
       "..                 ...                             ...               ...  \n",
       "244               1.80                               2               353  \n",
       "245               0.90                               1               140  \n",
       "246               2.30                               1                 2  \n",
       "247               0.58                               1                56  \n",
       "248               2.13                               1                68  \n",
       "\n",
       "[249 rows x 16 columns]>"
      ]
     },
     "execution_count": 13,
     "metadata": {},
     "output_type": "execute_result"
    }
   ],
   "source": [
    "df.describe"
   ]
  },
  {
   "cell_type": "code",
   "execution_count": 14,
   "id": "0ac30881",
   "metadata": {},
   "outputs": [
    {
     "data": {
      "text/plain": [
       "id                                  int64\n",
       "name_of_the_stay                   object\n",
       "host_id                             int64\n",
       "host_name                          object\n",
       "neighbourhood_group                object\n",
       "neighbourhood                      object\n",
       "latitude                          float64\n",
       "longitude                         float64\n",
       "room_type                          object\n",
       "price                               int64\n",
       "minimum_nights                      int64\n",
       "number_of_reviews                   int64\n",
       "last_review                        object\n",
       "reviews_per_month                 float64\n",
       "calculated_host_listings_count      int64\n",
       "availability_365                    int64\n",
       "dtype: object"
      ]
     },
     "execution_count": 14,
     "metadata": {},
     "output_type": "execute_result"
    }
   ],
   "source": [
    "df.dtypes"
   ]
  },
  {
   "cell_type": "code",
   "execution_count": 15,
   "id": "3bdc03cd",
   "metadata": {},
   "outputs": [
    {
     "data": {
      "text/plain": [
       "array(['Brooklyn', 'Manhattan', 'Queens', 'Staten Island', 'Bronx'],\n",
       "      dtype=object)"
      ]
     },
     "execution_count": 15,
     "metadata": {},
     "output_type": "execute_result"
    }
   ],
   "source": [
    "df[\"neighbourhood_group\"].unique()"
   ]
  },
  {
   "cell_type": "code",
   "execution_count": 16,
   "id": "973cb2e8",
   "metadata": {},
   "outputs": [
    {
     "data": {
      "text/plain": [
       "array(['Kensington', 'Midtown', 'Harlem', 'Clinton Hill', 'East Harlem',\n",
       "       'Murray Hill', 'Bedford-Stuyvesant', \"Hell's Kitchen\",\n",
       "       'Upper West Side', 'Chinatown', 'South Slope', 'West Village',\n",
       "       'Williamsburg', 'Fort Greene', 'Chelsea', 'Crown Heights',\n",
       "       'Park Slope', 'Windsor Terrace', 'Inwood', 'East Village',\n",
       "       'Greenpoint', 'Bushwick', 'Flatbush', 'Lower East Side',\n",
       "       'Prospect-Lefferts Gardens', 'Long Island City', 'Kips Bay',\n",
       "       'SoHo', 'Upper East Side', 'Prospect Heights',\n",
       "       'Washington Heights', 'Woodside', 'Brooklyn Heights',\n",
       "       'Carroll Gardens', 'Gowanus', 'Flatlands', 'Cobble Hill',\n",
       "       'Flushing', 'Boerum Hill', 'Sunnyside', 'DUMBO', 'St. George',\n",
       "       'Highbridge', 'Financial District', 'Ridgewood',\n",
       "       'Morningside Heights', 'Jamaica', 'Middle Village', 'NoHo',\n",
       "       'Ditmars Steinway', 'Flatiron District', 'Roosevelt Island',\n",
       "       'Greenwich Village', 'Little Italy', 'East Flatbush'], dtype=object)"
      ]
     },
     "execution_count": 16,
     "metadata": {},
     "output_type": "execute_result"
    }
   ],
   "source": [
    "df[\"neighbourhood\"].unique()"
   ]
  },
  {
   "cell_type": "markdown",
   "id": "d154d89d",
   "metadata": {},
   "source": [
    "# FIND THE NULL VALUES"
   ]
  },
  {
   "cell_type": "code",
   "execution_count": 17,
   "id": "fd955d39",
   "metadata": {},
   "outputs": [
    {
     "data": {
      "text/plain": [
       "id                                0\n",
       "name_of_the_stay                  0\n",
       "host_id                           0\n",
       "host_name                         0\n",
       "neighbourhood_group               0\n",
       "neighbourhood                     0\n",
       "latitude                          0\n",
       "longitude                         0\n",
       "room_type                         0\n",
       "price                             0\n",
       "minimum_nights                    0\n",
       "number_of_reviews                 0\n",
       "last_review                       7\n",
       "reviews_per_month                 7\n",
       "calculated_host_listings_count    0\n",
       "availability_365                  0\n",
       "dtype: int64"
      ]
     },
     "execution_count": 17,
     "metadata": {},
     "output_type": "execute_result"
    }
   ],
   "source": [
    "df.isnull().sum()"
   ]
  },
  {
   "cell_type": "markdown",
   "id": "31181716",
   "metadata": {},
   "source": [
    "# REPLACE THE NULL VALUES"
   ]
  },
  {
   "cell_type": "code",
   "execution_count": 18,
   "id": "e8ea3fea",
   "metadata": {},
   "outputs": [],
   "source": [
    "df[\"last_review\"]=df[\"last_review\"].replace(np.nan,0)\n",
    "df[\"reviews_per_month\"]=df[\"reviews_per_month\"].replace(np.nan,0)"
   ]
  },
  {
   "cell_type": "code",
   "execution_count": 19,
   "id": "9a615143",
   "metadata": {},
   "outputs": [
    {
     "data": {
      "text/plain": [
       "id                                0\n",
       "name_of_the_stay                  0\n",
       "host_id                           0\n",
       "host_name                         0\n",
       "neighbourhood_group               0\n",
       "neighbourhood                     0\n",
       "latitude                          0\n",
       "longitude                         0\n",
       "room_type                         0\n",
       "price                             0\n",
       "minimum_nights                    0\n",
       "number_of_reviews                 0\n",
       "last_review                       0\n",
       "reviews_per_month                 0\n",
       "calculated_host_listings_count    0\n",
       "availability_365                  0\n",
       "dtype: int64"
      ]
     },
     "execution_count": 19,
     "metadata": {},
     "output_type": "execute_result"
    }
   ],
   "source": [
    "df.isnull().sum()"
   ]
  },
  {
   "cell_type": "code",
   "execution_count": 20,
   "id": "d4f58204",
   "metadata": {},
   "outputs": [],
   "source": [
    "# from above we can conclude that there are no null values"
   ]
  },
  {
   "cell_type": "markdown",
   "id": "5451aaab",
   "metadata": {},
   "source": [
    "# FIND THE OUTLIERS"
   ]
  },
  {
   "cell_type": "code",
   "execution_count": 21,
   "id": "c956ecb4",
   "metadata": {},
   "outputs": [],
   "source": [
    "def outliers_viz(dataframe):\n",
    "    for i in dataframe.columns:\n",
    "        if dataframe[i].dtypes==\"float64\" or dataframe[i].dtypes==\"int64\":\n",
    "            sns.boxplot(y=i,data=df)\n",
    "            plt.show()\n",
    "        return \"success\""
   ]
  },
  {
   "cell_type": "code",
   "execution_count": 22,
   "id": "b3623ff3",
   "metadata": {},
   "outputs": [
    {
     "data": {
      "image/png": "[encoded data removed]",
      "text/plain": [
       "<Figure size 432x288 with 1 Axes>"
      ]
     },
     "metadata": {
      "needs_background": "light"
     },
     "output_type": "display_data"
    },
    {
     "data": {
      "text/plain": [
       "'success'"
      ]
     },
     "execution_count": 22,
     "metadata": {},
     "output_type": "execute_result"
    }
   ],
   "source": [
    "df1=outliers_viz(df)\n",
    "df1"
   ]
  },
  {
   "cell_type": "code",
   "execution_count": 23,
   "id": "8e70eddf",
   "metadata": {},
   "outputs": [],
   "source": [
    "# From above we can conclude that no outliers are prsent"
   ]
  },
  {
   "cell_type": "markdown",
   "id": "225a4181",
   "metadata": {},
   "source": [
    "# EXPLORATORY DATA ANALYSIS"
   ]
  },
  {
   "cell_type": "markdown",
   "id": "e0f4815b",
   "metadata": {},
   "source": [
    "# TOP 10 NEIGHBOURHOOD NEAR STAY ROOMS"
   ]
  },
  {
   "cell_type": "code",
   "execution_count": 24,
   "id": "be700014",
   "metadata": {},
   "outputs": [
    {
     "data": {
      "image/png": "[encoded data removed]",
      "text/plain": [
       "<Figure size 432x288 with 1 Axes>"
      ]
     },
     "metadata": {},
     "output_type": "display_data"
    }
   ],
   "source": [
    "xyz= df[\"neighbourhood\"].value_counts().iloc[:10]\n",
    "xyz.plot(kind=\"pie\",autopct=\"%0.2f%%\",radius=2.0,)\n",
    "plt.show()"
   ]
  },
  {
   "cell_type": "code",
   "execution_count": 25,
   "id": "534ea572",
   "metadata": {},
   "outputs": [],
   "source": [
    "# from above we can conclude, the most of stay rooms are near neighbourhood HARLEM"
   ]
  },
  {
   "cell_type": "markdown",
   "id": "116afe1b",
   "metadata": {},
   "source": [
    "# MOST CHARGED PRICE BY THE STAY ROOMS"
   ]
  },
  {
   "cell_type": "code",
   "execution_count": 26,
   "id": "ebbc1698",
   "metadata": {},
   "outputs": [
    {
     "data": {
      "image/png": "[encoded data removed]",
      "text/plain": [
       "<Figure size 432x288 with 1 Axes>"
      ]
     },
     "metadata": {
      "needs_background": "light"
     },
     "output_type": "display_data"
    }
   ],
   "source": [
    "plt.title(\"Most Charged Price By The Stay Rooms\")\n",
    "sns.swarmplot(data=df,x=\"price\",order=df[\"price\"].value_counts().iloc[:5].index)\n",
    "plt.show()"
   ]
  },
  {
   "cell_type": "code",
   "execution_count": 27,
   "id": "0b52ced0",
   "metadata": {},
   "outputs": [],
   "source": [
    "# from above, we can conclude that most charged prices by the STAY ROOMS is 150"
   ]
  },
  {
   "cell_type": "markdown",
   "id": "4d81db81",
   "metadata": {},
   "source": [
    "# NEIGHBOURHOOD GROUPS NEAR STAY ROOMS"
   ]
  },
  {
   "cell_type": "code",
   "execution_count": 28,
   "id": "62083b3a",
   "metadata": {},
   "outputs": [
    {
     "data": {
      "image/png": "[encoded data removed]",
      "text/plain": [
       "<Figure size 432x288 with 1 Axes>"
      ]
     },
     "metadata": {
      "needs_background": "light"
     },
     "output_type": "display_data"
    }
   ],
   "source": [
    "\n",
    "sns.histplot(x=df[\"neighbourhood_group\"],data=df,kde=True,color=\"green\")\n",
    "plt.xticks(rotation=90)\n",
    "plt.show()"
   ]
  },
  {
   "cell_type": "code",
   "execution_count": 29,
   "id": "c7b76606",
   "metadata": {},
   "outputs": [],
   "source": [
    "# from above we can conclude that most of the stays are at neighbourhood_group MANHATTAN"
   ]
  },
  {
   "cell_type": "markdown",
   "id": "57de9631",
   "metadata": {},
   "source": [
    "# ROOM TYPES"
   ]
  },
  {
   "cell_type": "code",
   "execution_count": 30,
   "id": "7c07b29c",
   "metadata": {},
   "outputs": [
    {
     "data": {
      "image/png": "[encoded data removed]",
      "text/plain": [
       "<Figure size 432x288 with 1 Axes>"
      ]
     },
     "metadata": {},
     "output_type": "display_data"
    }
   ],
   "source": [
    "\n",
    "xyz= df[\"room_type\"].value_counts().iloc[:3]\n",
    "xyz.plot(kind=\"pie\",autopct=\"%0.2f%%\",radius=2.0)\n",
    "centre_circle = plt.Circle((0, 0), 0.70, fc='white')\n",
    "fig = plt.gcf()\n",
    "fig.gca().add_artist(centre_circle)\n",
    "plt.title('TYPE OF ROOMS')\n",
    "plt.show()"
   ]
  },
  {
   "cell_type": "code",
   "execution_count": 31,
   "id": "89f55f2b",
   "metadata": {},
   "outputs": [],
   "source": [
    "# from above we can conclude that most of the stays are of Entire home/apt type"
   ]
  },
  {
   "cell_type": "markdown",
   "id": "624a0cac",
   "metadata": {},
   "source": [
    "# HEAT MAP"
   ]
  },
  {
   "cell_type": "code",
   "execution_count": 32,
   "id": "2c31d7a9",
   "metadata": {},
   "outputs": [
    {
     "data": {
      "text/html": [
       "<div>\n",
       "<style scoped>\n",
       "    .dataframe tbody tr th:only-of-type {\n",
       "        vertical-align: middle;\n",
       "    }\n",
       "\n",
       "    .dataframe tbody tr th {\n",
       "        vertical-align: top;\n",
       "    }\n",
       "\n",
       "    .dataframe thead th {\n",
       "        text-align: right;\n",
       "    }\n",
       "</style>\n",
       "<table border=\"1\" class=\"dataframe\">\n",
       "  <thead>\n",
       "    <tr style=\"text-align: right;\">\n",
       "      <th></th>\n",
       "      <th>id</th>\n",
       "      <th>host_id</th>\n",
       "      <th>latitude</th>\n",
       "      <th>longitude</th>\n",
       "      <th>price</th>\n",
       "      <th>minimum_nights</th>\n",
       "      <th>number_of_reviews</th>\n",
       "      <th>reviews_per_month</th>\n",
       "      <th>calculated_host_listings_count</th>\n",
       "      <th>availability_365</th>\n",
       "    </tr>\n",
       "  </thead>\n",
       "  <tbody>\n",
       "    <tr>\n",
       "      <th>id</th>\n",
       "      <td>1.000000</td>\n",
       "      <td>0.182007</td>\n",
       "      <td>0.062229</td>\n",
       "      <td>0.063289</td>\n",
       "      <td>0.112822</td>\n",
       "      <td>-0.004242</td>\n",
       "      <td>0.001333</td>\n",
       "      <td>0.027365</td>\n",
       "      <td>-0.002860</td>\n",
       "      <td>-0.040013</td>\n",
       "    </tr>\n",
       "    <tr>\n",
       "      <th>host_id</th>\n",
       "      <td>0.182007</td>\n",
       "      <td>1.000000</td>\n",
       "      <td>0.016972</td>\n",
       "      <td>0.010947</td>\n",
       "      <td>-0.015882</td>\n",
       "      <td>-0.045847</td>\n",
       "      <td>-0.070478</td>\n",
       "      <td>-0.065424</td>\n",
       "      <td>-0.060494</td>\n",
       "      <td>0.019983</td>\n",
       "    </tr>\n",
       "    <tr>\n",
       "      <th>latitude</th>\n",
       "      <td>0.062229</td>\n",
       "      <td>0.016972</td>\n",
       "      <td>1.000000</td>\n",
       "      <td>0.163688</td>\n",
       "      <td>-0.076422</td>\n",
       "      <td>0.000398</td>\n",
       "      <td>0.000859</td>\n",
       "      <td>-0.011451</td>\n",
       "      <td>-0.089450</td>\n",
       "      <td>0.066022</td>\n",
       "    </tr>\n",
       "    <tr>\n",
       "      <th>longitude</th>\n",
       "      <td>0.063289</td>\n",
       "      <td>0.010947</td>\n",
       "      <td>0.163688</td>\n",
       "      <td>1.000000</td>\n",
       "      <td>-0.235756</td>\n",
       "      <td>-0.042712</td>\n",
       "      <td>-0.074639</td>\n",
       "      <td>-0.044712</td>\n",
       "      <td>0.176826</td>\n",
       "      <td>0.067338</td>\n",
       "    </tr>\n",
       "    <tr>\n",
       "      <th>price</th>\n",
       "      <td>0.112822</td>\n",
       "      <td>-0.015882</td>\n",
       "      <td>-0.076422</td>\n",
       "      <td>-0.235756</td>\n",
       "      <td>1.000000</td>\n",
       "      <td>0.051217</td>\n",
       "      <td>-0.206950</td>\n",
       "      <td>-0.224013</td>\n",
       "      <td>-0.131999</td>\n",
       "      <td>0.010685</td>\n",
       "    </tr>\n",
       "    <tr>\n",
       "      <th>minimum_nights</th>\n",
       "      <td>-0.004242</td>\n",
       "      <td>-0.045847</td>\n",
       "      <td>0.000398</td>\n",
       "      <td>-0.042712</td>\n",
       "      <td>0.051217</td>\n",
       "      <td>1.000000</td>\n",
       "      <td>-0.128352</td>\n",
       "      <td>-0.139348</td>\n",
       "      <td>-0.111958</td>\n",
       "      <td>-0.069384</td>\n",
       "    </tr>\n",
       "    <tr>\n",
       "      <th>number_of_reviews</th>\n",
       "      <td>0.001333</td>\n",
       "      <td>-0.070478</td>\n",
       "      <td>0.000859</td>\n",
       "      <td>-0.074639</td>\n",
       "      <td>-0.206950</td>\n",
       "      <td>-0.128352</td>\n",
       "      <td>1.000000</td>\n",
       "      <td>0.909183</td>\n",
       "      <td>0.100252</td>\n",
       "      <td>0.034783</td>\n",
       "    </tr>\n",
       "    <tr>\n",
       "      <th>reviews_per_month</th>\n",
       "      <td>0.027365</td>\n",
       "      <td>-0.065424</td>\n",
       "      <td>-0.011451</td>\n",
       "      <td>-0.044712</td>\n",
       "      <td>-0.224013</td>\n",
       "      <td>-0.139348</td>\n",
       "      <td>0.909183</td>\n",
       "      <td>1.000000</td>\n",
       "      <td>0.070743</td>\n",
       "      <td>-0.037551</td>\n",
       "    </tr>\n",
       "    <tr>\n",
       "      <th>calculated_host_listings_count</th>\n",
       "      <td>-0.002860</td>\n",
       "      <td>-0.060494</td>\n",
       "      <td>-0.089450</td>\n",
       "      <td>0.176826</td>\n",
       "      <td>-0.131999</td>\n",
       "      <td>-0.111958</td>\n",
       "      <td>0.100252</td>\n",
       "      <td>0.070743</td>\n",
       "      <td>1.000000</td>\n",
       "      <td>0.332870</td>\n",
       "    </tr>\n",
       "    <tr>\n",
       "      <th>availability_365</th>\n",
       "      <td>-0.040013</td>\n",
       "      <td>0.019983</td>\n",
       "      <td>0.066022</td>\n",
       "      <td>0.067338</td>\n",
       "      <td>0.010685</td>\n",
       "      <td>-0.069384</td>\n",
       "      <td>0.034783</td>\n",
       "      <td>-0.037551</td>\n",
       "      <td>0.332870</td>\n",
       "      <td>1.000000</td>\n",
       "    </tr>\n",
       "  </tbody>\n",
       "</table>\n",
       "</div>"
      ],
      "text/plain": [
       "                                      id   host_id  latitude  longitude  \\\n",
       "id                              1.000000  0.182007  0.062229   0.063289   \n",
       "host_id                         0.182007  1.000000  0.016972   0.010947   \n",
       "latitude                        0.062229  0.016972  1.000000   0.163688   \n",
       "longitude                       0.063289  0.010947  0.163688   1.000000   \n",
       "price                           0.112822 -0.015882 -0.076422  -0.235756   \n",
       "minimum_nights                 -0.004242 -0.045847  0.000398  -0.042712   \n",
       "number_of_reviews               0.001333 -0.070478  0.000859  -0.074639   \n",
       "reviews_per_month               0.027365 -0.065424 -0.011451  -0.044712   \n",
       "calculated_host_listings_count -0.002860 -0.060494 -0.089450   0.176826   \n",
       "availability_365               -0.040013  0.019983  0.066022   0.067338   \n",
       "\n",
       "                                   price  minimum_nights  number_of_reviews  \\\n",
       "id                              0.112822       -0.004242           0.001333   \n",
       "host_id                        -0.015882       -0.045847          -0.070478   \n",
       "latitude                       -0.076422        0.000398           0.000859   \n",
       "longitude                      -0.235756       -0.042712          -0.074639   \n",
       "price                           1.000000        0.051217          -0.206950   \n",
       "minimum_nights                  0.051217        1.000000          -0.128352   \n",
       "number_of_reviews              -0.206950       -0.128352           1.000000   \n",
       "reviews_per_month              -0.224013       -0.139348           0.909183   \n",
       "calculated_host_listings_count -0.131999       -0.111958           0.100252   \n",
       "availability_365                0.010685       -0.069384           0.034783   \n",
       "\n",
       "                                reviews_per_month  \\\n",
       "id                                       0.027365   \n",
       "host_id                                 -0.065424   \n",
       "latitude                                -0.011451   \n",
       "longitude                               -0.044712   \n",
       "price                                   -0.224013   \n",
       "minimum_nights                          -0.139348   \n",
       "number_of_reviews                        0.909183   \n",
       "reviews_per_month                        1.000000   \n",
       "calculated_host_listings_count           0.070743   \n",
       "availability_365                        -0.037551   \n",
       "\n",
       "                                calculated_host_listings_count  \\\n",
       "id                                                   -0.002860   \n",
       "host_id                                              -0.060494   \n",
       "latitude                                             -0.089450   \n",
       "longitude                                             0.176826   \n",
       "price                                                -0.131999   \n",
       "minimum_nights                                       -0.111958   \n",
       "number_of_reviews                                     0.100252   \n",
       "reviews_per_month                                     0.070743   \n",
       "calculated_host_listings_count                        1.000000   \n",
       "availability_365                                      0.332870   \n",
       "\n",
       "                                availability_365  \n",
       "id                                     -0.040013  \n",
       "host_id                                 0.019983  \n",
       "latitude                                0.066022  \n",
       "longitude                               0.067338  \n",
       "price                                   0.010685  \n",
       "minimum_nights                         -0.069384  \n",
       "number_of_reviews                       0.034783  \n",
       "reviews_per_month                      -0.037551  \n",
       "calculated_host_listings_count          0.332870  \n",
       "availability_365                        1.000000  "
      ]
     },
     "execution_count": 32,
     "metadata": {},
     "output_type": "execute_result"
    }
   ],
   "source": [
    "df.corr()"
   ]
  },
  {
   "cell_type": "code",
   "execution_count": 33,
   "id": "32b2436c",
   "metadata": {},
   "outputs": [
    {
     "data": {
      "image/png": "[encoded data removed]",
      "text/plain": [
       "<Figure size 1008x432 with 2 Axes>"
      ]
     },
     "metadata": {
      "needs_background": "light"
     },
     "output_type": "display_data"
    }
   ],
   "source": [
    "plt.subplots(figsize=(14, 6))\n",
    "sns.heatmap(df.corr(),annot=True,cmap=\"YlGnBu\")\n",
    "plt.show()"
   ]
  },
  {
   "cell_type": "code",
   "execution_count": 34,
   "id": "e747efad",
   "metadata": {},
   "outputs": [],
   "source": [
    "# from above we can conclude that number_of_reviews and reviews_per_month are highly correleated"
   ]
  },
  {
   "cell_type": "markdown",
   "id": "bec382fa",
   "metadata": {},
   "source": [
    "# INSIGHTS"
   ]
  },
  {
   "cell_type": "code",
   "execution_count": 35,
   "id": "1e6acd35",
   "metadata": {},
   "outputs": [],
   "source": [
    "# from above we can conclude, the most of stay rooms are near neighbourhood HARLEM"
   ]
  },
  {
   "cell_type": "code",
   "execution_count": 36,
   "id": "708aa136",
   "metadata": {},
   "outputs": [],
   "source": [
    "# from above, we can conclude that most charged prices by the stay rooms is 150"
   ]
  },
  {
   "cell_type": "code",
   "execution_count": 37,
   "id": "3bc8e584",
   "metadata": {},
   "outputs": [],
   "source": [
    "# from above we can conclude that most of the stays are at neighbourhood_group MANHATTAN"
   ]
  },
  {
   "cell_type": "code",
   "execution_count": 38,
   "id": "9cf5a062",
   "metadata": {},
   "outputs": [],
   "source": [
    "# from above we can conclude that most of the stays are of Entire home/apt type"
   ]
  },
  {
   "cell_type": "code",
   "execution_count": 39,
   "id": "daa2c220",
   "metadata": {},
   "outputs": [],
   "source": [
    "# from above we can conclude that number_of_reviews and reviews_per_month are highly correleated"
   ]
  },
  {
   "cell_type": "code",
   "execution_count": null,
   "id": "beaa43bf",
   "metadata": {},
   "outputs": [],
   "source": []
  },
  {
   "cell_type": "markdown",
   "id": "2ec04953",
   "metadata": {},
   "source": [
    "# IMPORTING LIBRARIES"
   ]
  },
  {
   "cell_type": "code",
   "execution_count": 40,
   "id": "3166de73",
   "metadata": {},
   "outputs": [],
   "source": [
    "import numpy as np\n",
    "import pandas as pd\n",
    "import seaborn as sns\n",
    "import matplotlib.pyplot as plt"
   ]
  },
  {
   "cell_type": "markdown",
   "id": "50d7d9ed",
   "metadata": {},
   "source": [
    "# IMPORTING THE DATA"
   ]
  },
  {
   "cell_type": "code",
   "execution_count": 41,
   "id": "93e6b6b3",
   "metadata": {},
   "outputs": [
    {
     "data": {
      "text/html": [
       "<div>\n",
       "<style scoped>\n",
       "    .dataframe tbody tr th:only-of-type {\n",
       "        vertical-align: middle;\n",
       "    }\n",
       "\n",
       "    .dataframe tbody tr th {\n",
       "        vertical-align: top;\n",
       "    }\n",
       "\n",
       "    .dataframe thead th {\n",
       "        text-align: right;\n",
       "    }\n",
       "</style>\n",
       "<table border=\"1\" class=\"dataframe\">\n",
       "  <thead>\n",
       "    <tr style=\"text-align: right;\">\n",
       "      <th></th>\n",
       "      <th>Employee_Name</th>\n",
       "      <th>EmpID</th>\n",
       "      <th>MarriedID</th>\n",
       "      <th>MaritalStatusID</th>\n",
       "      <th>GenderID</th>\n",
       "      <th>EmpStatusID</th>\n",
       "      <th>DeptID</th>\n",
       "      <th>PerfScoreID</th>\n",
       "      <th>FromDiversityJobFairID</th>\n",
       "      <th>Salary</th>\n",
       "      <th>...</th>\n",
       "      <th>ManagerName</th>\n",
       "      <th>ManagerID</th>\n",
       "      <th>RecruitmentSource</th>\n",
       "      <th>PerformanceScore</th>\n",
       "      <th>EngagementSurvey</th>\n",
       "      <th>EmpSatisfaction</th>\n",
       "      <th>SpecialProjectsCount</th>\n",
       "      <th>LastPerformanceReview_Date</th>\n",
       "      <th>DaysLateLast30</th>\n",
       "      <th>Absences</th>\n",
       "    </tr>\n",
       "  </thead>\n",
       "  <tbody>\n",
       "    <tr>\n",
       "      <th>0</th>\n",
       "      <td>Adinolfi, Wilson  K</td>\n",
       "      <td>10026</td>\n",
       "      <td>0</td>\n",
       "      <td>0</td>\n",
       "      <td>1</td>\n",
       "      <td>1</td>\n",
       "      <td>5</td>\n",
       "      <td>4</td>\n",
       "      <td>0</td>\n",
       "      <td>62506</td>\n",
       "      <td>...</td>\n",
       "      <td>Michael Albert</td>\n",
       "      <td>22.0</td>\n",
       "      <td>LinkedIn</td>\n",
       "      <td>Exceeds</td>\n",
       "      <td>4.60</td>\n",
       "      <td>5</td>\n",
       "      <td>0</td>\n",
       "      <td>1/17/2019</td>\n",
       "      <td>0</td>\n",
       "      <td>1</td>\n",
       "    </tr>\n",
       "    <tr>\n",
       "      <th>1</th>\n",
       "      <td>Ait Sidi, Karthikeyan</td>\n",
       "      <td>10084</td>\n",
       "      <td>1</td>\n",
       "      <td>1</td>\n",
       "      <td>1</td>\n",
       "      <td>5</td>\n",
       "      <td>3</td>\n",
       "      <td>3</td>\n",
       "      <td>0</td>\n",
       "      <td>104437</td>\n",
       "      <td>...</td>\n",
       "      <td>Simon Roup</td>\n",
       "      <td>4.0</td>\n",
       "      <td>Indeed</td>\n",
       "      <td>Fully Meets</td>\n",
       "      <td>4.96</td>\n",
       "      <td>3</td>\n",
       "      <td>6</td>\n",
       "      <td>2/24/2016</td>\n",
       "      <td>0</td>\n",
       "      <td>17</td>\n",
       "    </tr>\n",
       "    <tr>\n",
       "      <th>2</th>\n",
       "      <td>Akinkuolie, Sarah</td>\n",
       "      <td>10196</td>\n",
       "      <td>1</td>\n",
       "      <td>1</td>\n",
       "      <td>0</td>\n",
       "      <td>5</td>\n",
       "      <td>5</td>\n",
       "      <td>3</td>\n",
       "      <td>0</td>\n",
       "      <td>64955</td>\n",
       "      <td>...</td>\n",
       "      <td>Kissy Sullivan</td>\n",
       "      <td>20.0</td>\n",
       "      <td>LinkedIn</td>\n",
       "      <td>Fully Meets</td>\n",
       "      <td>3.02</td>\n",
       "      <td>3</td>\n",
       "      <td>0</td>\n",
       "      <td>5/15/2012</td>\n",
       "      <td>0</td>\n",
       "      <td>3</td>\n",
       "    </tr>\n",
       "    <tr>\n",
       "      <th>3</th>\n",
       "      <td>Alagbe,Trina</td>\n",
       "      <td>10088</td>\n",
       "      <td>1</td>\n",
       "      <td>1</td>\n",
       "      <td>0</td>\n",
       "      <td>1</td>\n",
       "      <td>5</td>\n",
       "      <td>3</td>\n",
       "      <td>0</td>\n",
       "      <td>64991</td>\n",
       "      <td>...</td>\n",
       "      <td>Elijiah Gray</td>\n",
       "      <td>16.0</td>\n",
       "      <td>Indeed</td>\n",
       "      <td>Fully Meets</td>\n",
       "      <td>4.84</td>\n",
       "      <td>5</td>\n",
       "      <td>0</td>\n",
       "      <td>01-03-2019</td>\n",
       "      <td>0</td>\n",
       "      <td>15</td>\n",
       "    </tr>\n",
       "    <tr>\n",
       "      <th>4</th>\n",
       "      <td>Anderson, Carol</td>\n",
       "      <td>10069</td>\n",
       "      <td>0</td>\n",
       "      <td>2</td>\n",
       "      <td>0</td>\n",
       "      <td>5</td>\n",
       "      <td>5</td>\n",
       "      <td>3</td>\n",
       "      <td>0</td>\n",
       "      <td>50825</td>\n",
       "      <td>...</td>\n",
       "      <td>Webster Butler</td>\n",
       "      <td>39.0</td>\n",
       "      <td>Google Search</td>\n",
       "      <td>Fully Meets</td>\n",
       "      <td>5.00</td>\n",
       "      <td>4</td>\n",
       "      <td>0</td>\n",
       "      <td>02-01-2016</td>\n",
       "      <td>0</td>\n",
       "      <td>2</td>\n",
       "    </tr>\n",
       "    <tr>\n",
       "      <th>...</th>\n",
       "      <td>...</td>\n",
       "      <td>...</td>\n",
       "      <td>...</td>\n",
       "      <td>...</td>\n",
       "      <td>...</td>\n",
       "      <td>...</td>\n",
       "      <td>...</td>\n",
       "      <td>...</td>\n",
       "      <td>...</td>\n",
       "      <td>...</td>\n",
       "      <td>...</td>\n",
       "      <td>...</td>\n",
       "      <td>...</td>\n",
       "      <td>...</td>\n",
       "      <td>...</td>\n",
       "      <td>...</td>\n",
       "      <td>...</td>\n",
       "      <td>...</td>\n",
       "      <td>...</td>\n",
       "      <td>...</td>\n",
       "      <td>...</td>\n",
       "    </tr>\n",
       "    <tr>\n",
       "      <th>306</th>\n",
       "      <td>Woodson, Jason</td>\n",
       "      <td>10135</td>\n",
       "      <td>0</td>\n",
       "      <td>0</td>\n",
       "      <td>1</td>\n",
       "      <td>1</td>\n",
       "      <td>5</td>\n",
       "      <td>3</td>\n",
       "      <td>0</td>\n",
       "      <td>65893</td>\n",
       "      <td>...</td>\n",
       "      <td>Kissy Sullivan</td>\n",
       "      <td>20.0</td>\n",
       "      <td>LinkedIn</td>\n",
       "      <td>Fully Meets</td>\n",
       "      <td>4.07</td>\n",
       "      <td>4</td>\n",
       "      <td>0</td>\n",
       "      <td>2/28/2019</td>\n",
       "      <td>0</td>\n",
       "      <td>13</td>\n",
       "    </tr>\n",
       "    <tr>\n",
       "      <th>307</th>\n",
       "      <td>Ybarra, Catherine</td>\n",
       "      <td>10301</td>\n",
       "      <td>0</td>\n",
       "      <td>0</td>\n",
       "      <td>0</td>\n",
       "      <td>5</td>\n",
       "      <td>5</td>\n",
       "      <td>1</td>\n",
       "      <td>0</td>\n",
       "      <td>48513</td>\n",
       "      <td>...</td>\n",
       "      <td>Brannon Miller</td>\n",
       "      <td>12.0</td>\n",
       "      <td>Google Search</td>\n",
       "      <td>PIP</td>\n",
       "      <td>3.20</td>\n",
       "      <td>2</td>\n",
       "      <td>0</td>\n",
       "      <td>09-02-2015</td>\n",
       "      <td>5</td>\n",
       "      <td>4</td>\n",
       "    </tr>\n",
       "    <tr>\n",
       "      <th>308</th>\n",
       "      <td>Zamora, Jennifer</td>\n",
       "      <td>10010</td>\n",
       "      <td>0</td>\n",
       "      <td>0</td>\n",
       "      <td>0</td>\n",
       "      <td>1</td>\n",
       "      <td>3</td>\n",
       "      <td>4</td>\n",
       "      <td>0</td>\n",
       "      <td>220450</td>\n",
       "      <td>...</td>\n",
       "      <td>Janet King</td>\n",
       "      <td>2.0</td>\n",
       "      <td>Employee Referral</td>\n",
       "      <td>Exceeds</td>\n",
       "      <td>4.60</td>\n",
       "      <td>5</td>\n",
       "      <td>6</td>\n",
       "      <td>2/21/2019</td>\n",
       "      <td>0</td>\n",
       "      <td>16</td>\n",
       "    </tr>\n",
       "    <tr>\n",
       "      <th>309</th>\n",
       "      <td>Zhou, Julia</td>\n",
       "      <td>10043</td>\n",
       "      <td>0</td>\n",
       "      <td>0</td>\n",
       "      <td>0</td>\n",
       "      <td>1</td>\n",
       "      <td>3</td>\n",
       "      <td>3</td>\n",
       "      <td>0</td>\n",
       "      <td>89292</td>\n",
       "      <td>...</td>\n",
       "      <td>Simon Roup</td>\n",
       "      <td>4.0</td>\n",
       "      <td>Employee Referral</td>\n",
       "      <td>Fully Meets</td>\n",
       "      <td>5.00</td>\n",
       "      <td>3</td>\n",
       "      <td>5</td>\n",
       "      <td>02-01-2019</td>\n",
       "      <td>0</td>\n",
       "      <td>11</td>\n",
       "    </tr>\n",
       "    <tr>\n",
       "      <th>310</th>\n",
       "      <td>Zima, Colleen</td>\n",
       "      <td>10271</td>\n",
       "      <td>0</td>\n",
       "      <td>4</td>\n",
       "      <td>0</td>\n",
       "      <td>1</td>\n",
       "      <td>5</td>\n",
       "      <td>3</td>\n",
       "      <td>0</td>\n",
       "      <td>45046</td>\n",
       "      <td>...</td>\n",
       "      <td>David Stanley</td>\n",
       "      <td>14.0</td>\n",
       "      <td>LinkedIn</td>\n",
       "      <td>Fully Meets</td>\n",
       "      <td>4.50</td>\n",
       "      <td>5</td>\n",
       "      <td>0</td>\n",
       "      <td>1/30/2019</td>\n",
       "      <td>0</td>\n",
       "      <td>2</td>\n",
       "    </tr>\n",
       "  </tbody>\n",
       "</table>\n",
       "<p>311 rows × 36 columns</p>\n",
       "</div>"
      ],
      "text/plain": [
       "                Employee_Name  EmpID  MarriedID  MaritalStatusID  GenderID  \\\n",
       "0         Adinolfi, Wilson  K  10026          0                0         1   \n",
       "1    Ait Sidi, Karthikeyan     10084          1                1         1   \n",
       "2           Akinkuolie, Sarah  10196          1                1         0   \n",
       "3                Alagbe,Trina  10088          1                1         0   \n",
       "4            Anderson, Carol   10069          0                2         0   \n",
       "..                        ...    ...        ...              ...       ...   \n",
       "306            Woodson, Jason  10135          0                0         1   \n",
       "307        Ybarra, Catherine   10301          0                0         0   \n",
       "308          Zamora, Jennifer  10010          0                0         0   \n",
       "309               Zhou, Julia  10043          0                0         0   \n",
       "310             Zima, Colleen  10271          0                4         0   \n",
       "\n",
       "     EmpStatusID  DeptID  PerfScoreID  FromDiversityJobFairID  Salary  ...  \\\n",
       "0              1       5            4                       0   62506  ...   \n",
       "1              5       3            3                       0  104437  ...   \n",
       "2              5       5            3                       0   64955  ...   \n",
       "3              1       5            3                       0   64991  ...   \n",
       "4              5       5            3                       0   50825  ...   \n",
       "..           ...     ...          ...                     ...     ...  ...   \n",
       "306            1       5            3                       0   65893  ...   \n",
       "307            5       5            1                       0   48513  ...   \n",
       "308            1       3            4                       0  220450  ...   \n",
       "309            1       3            3                       0   89292  ...   \n",
       "310            1       5            3                       0   45046  ...   \n",
       "\n",
       "        ManagerName  ManagerID  RecruitmentSource PerformanceScore  \\\n",
       "0    Michael Albert       22.0           LinkedIn          Exceeds   \n",
       "1        Simon Roup        4.0             Indeed      Fully Meets   \n",
       "2    Kissy Sullivan       20.0           LinkedIn      Fully Meets   \n",
       "3      Elijiah Gray       16.0             Indeed      Fully Meets   \n",
       "4    Webster Butler       39.0      Google Search      Fully Meets   \n",
       "..              ...        ...                ...              ...   \n",
       "306  Kissy Sullivan       20.0           LinkedIn      Fully Meets   \n",
       "307  Brannon Miller       12.0      Google Search              PIP   \n",
       "308      Janet King        2.0  Employee Referral          Exceeds   \n",
       "309      Simon Roup        4.0  Employee Referral      Fully Meets   \n",
       "310   David Stanley       14.0           LinkedIn      Fully Meets   \n",
       "\n",
       "     EngagementSurvey EmpSatisfaction SpecialProjectsCount  \\\n",
       "0                4.60               5                    0   \n",
       "1                4.96               3                    6   \n",
       "2                3.02               3                    0   \n",
       "3                4.84               5                    0   \n",
       "4                5.00               4                    0   \n",
       "..                ...             ...                  ...   \n",
       "306              4.07               4                    0   \n",
       "307              3.20               2                    0   \n",
       "308              4.60               5                    6   \n",
       "309              5.00               3                    5   \n",
       "310              4.50               5                    0   \n",
       "\n",
       "    LastPerformanceReview_Date DaysLateLast30 Absences  \n",
       "0                    1/17/2019              0        1  \n",
       "1                    2/24/2016              0       17  \n",
       "2                    5/15/2012              0        3  \n",
       "3                   01-03-2019              0       15  \n",
       "4                   02-01-2016              0        2  \n",
       "..                         ...            ...      ...  \n",
       "306                  2/28/2019              0       13  \n",
       "307                 09-02-2015              5        4  \n",
       "308                  2/21/2019              0       16  \n",
       "309                 02-01-2019              0       11  \n",
       "310                  1/30/2019              0        2  \n",
       "\n",
       "[311 rows x 36 columns]"
      ]
     },
     "execution_count": 41,
     "metadata": {},
     "output_type": "execute_result"
    }
   ],
   "source": [
    "data= pd.read_csv(r\"C:\\Users\\Admin\\Desktop\\hr_dataset.csv\")\n",
    "data"
   ]
  },
  {
   "cell_type": "markdown",
   "id": "5e4f7fcc",
   "metadata": {},
   "source": [
    "# DATA PRE PROCESSING"
   ]
  },
  {
   "cell_type": "code",
   "execution_count": 42,
   "id": "2d5d4a37",
   "metadata": {},
   "outputs": [
    {
     "data": {
      "text/plain": [
       "(311, 36)"
      ]
     },
     "execution_count": 42,
     "metadata": {},
     "output_type": "execute_result"
    }
   ],
   "source": [
    "data.shape"
   ]
  },
  {
   "cell_type": "code",
   "execution_count": 43,
   "id": "ae45f414",
   "metadata": {},
   "outputs": [
    {
     "data": {
      "text/plain": [
       "11196"
      ]
     },
     "execution_count": 43,
     "metadata": {},
     "output_type": "execute_result"
    }
   ],
   "source": [
    "data.size"
   ]
  },
  {
   "cell_type": "code",
   "execution_count": 44,
   "id": "09dd1e78",
   "metadata": {},
   "outputs": [
    {
     "data": {
      "text/html": [
       "<div>\n",
       "<style scoped>\n",
       "    .dataframe tbody tr th:only-of-type {\n",
       "        vertical-align: middle;\n",
       "    }\n",
       "\n",
       "    .dataframe tbody tr th {\n",
       "        vertical-align: top;\n",
       "    }\n",
       "\n",
       "    .dataframe thead th {\n",
       "        text-align: right;\n",
       "    }\n",
       "</style>\n",
       "<table border=\"1\" class=\"dataframe\">\n",
       "  <thead>\n",
       "    <tr style=\"text-align: right;\">\n",
       "      <th></th>\n",
       "      <th>Employee_Name</th>\n",
       "      <th>EmpID</th>\n",
       "      <th>MarriedID</th>\n",
       "      <th>MaritalStatusID</th>\n",
       "      <th>GenderID</th>\n",
       "      <th>EmpStatusID</th>\n",
       "      <th>DeptID</th>\n",
       "      <th>PerfScoreID</th>\n",
       "      <th>FromDiversityJobFairID</th>\n",
       "      <th>Salary</th>\n",
       "      <th>...</th>\n",
       "      <th>ManagerName</th>\n",
       "      <th>ManagerID</th>\n",
       "      <th>RecruitmentSource</th>\n",
       "      <th>PerformanceScore</th>\n",
       "      <th>EngagementSurvey</th>\n",
       "      <th>EmpSatisfaction</th>\n",
       "      <th>SpecialProjectsCount</th>\n",
       "      <th>LastPerformanceReview_Date</th>\n",
       "      <th>DaysLateLast30</th>\n",
       "      <th>Absences</th>\n",
       "    </tr>\n",
       "  </thead>\n",
       "  <tbody>\n",
       "    <tr>\n",
       "      <th>0</th>\n",
       "      <td>Adinolfi, Wilson  K</td>\n",
       "      <td>10026</td>\n",
       "      <td>0</td>\n",
       "      <td>0</td>\n",
       "      <td>1</td>\n",
       "      <td>1</td>\n",
       "      <td>5</td>\n",
       "      <td>4</td>\n",
       "      <td>0</td>\n",
       "      <td>62506</td>\n",
       "      <td>...</td>\n",
       "      <td>Michael Albert</td>\n",
       "      <td>22.0</td>\n",
       "      <td>LinkedIn</td>\n",
       "      <td>Exceeds</td>\n",
       "      <td>4.60</td>\n",
       "      <td>5</td>\n",
       "      <td>0</td>\n",
       "      <td>1/17/2019</td>\n",
       "      <td>0</td>\n",
       "      <td>1</td>\n",
       "    </tr>\n",
       "    <tr>\n",
       "      <th>1</th>\n",
       "      <td>Ait Sidi, Karthikeyan</td>\n",
       "      <td>10084</td>\n",
       "      <td>1</td>\n",
       "      <td>1</td>\n",
       "      <td>1</td>\n",
       "      <td>5</td>\n",
       "      <td>3</td>\n",
       "      <td>3</td>\n",
       "      <td>0</td>\n",
       "      <td>104437</td>\n",
       "      <td>...</td>\n",
       "      <td>Simon Roup</td>\n",
       "      <td>4.0</td>\n",
       "      <td>Indeed</td>\n",
       "      <td>Fully Meets</td>\n",
       "      <td>4.96</td>\n",
       "      <td>3</td>\n",
       "      <td>6</td>\n",
       "      <td>2/24/2016</td>\n",
       "      <td>0</td>\n",
       "      <td>17</td>\n",
       "    </tr>\n",
       "    <tr>\n",
       "      <th>2</th>\n",
       "      <td>Akinkuolie, Sarah</td>\n",
       "      <td>10196</td>\n",
       "      <td>1</td>\n",
       "      <td>1</td>\n",
       "      <td>0</td>\n",
       "      <td>5</td>\n",
       "      <td>5</td>\n",
       "      <td>3</td>\n",
       "      <td>0</td>\n",
       "      <td>64955</td>\n",
       "      <td>...</td>\n",
       "      <td>Kissy Sullivan</td>\n",
       "      <td>20.0</td>\n",
       "      <td>LinkedIn</td>\n",
       "      <td>Fully Meets</td>\n",
       "      <td>3.02</td>\n",
       "      <td>3</td>\n",
       "      <td>0</td>\n",
       "      <td>5/15/2012</td>\n",
       "      <td>0</td>\n",
       "      <td>3</td>\n",
       "    </tr>\n",
       "    <tr>\n",
       "      <th>3</th>\n",
       "      <td>Alagbe,Trina</td>\n",
       "      <td>10088</td>\n",
       "      <td>1</td>\n",
       "      <td>1</td>\n",
       "      <td>0</td>\n",
       "      <td>1</td>\n",
       "      <td>5</td>\n",
       "      <td>3</td>\n",
       "      <td>0</td>\n",
       "      <td>64991</td>\n",
       "      <td>...</td>\n",
       "      <td>Elijiah Gray</td>\n",
       "      <td>16.0</td>\n",
       "      <td>Indeed</td>\n",
       "      <td>Fully Meets</td>\n",
       "      <td>4.84</td>\n",
       "      <td>5</td>\n",
       "      <td>0</td>\n",
       "      <td>01-03-2019</td>\n",
       "      <td>0</td>\n",
       "      <td>15</td>\n",
       "    </tr>\n",
       "    <tr>\n",
       "      <th>4</th>\n",
       "      <td>Anderson, Carol</td>\n",
       "      <td>10069</td>\n",
       "      <td>0</td>\n",
       "      <td>2</td>\n",
       "      <td>0</td>\n",
       "      <td>5</td>\n",
       "      <td>5</td>\n",
       "      <td>3</td>\n",
       "      <td>0</td>\n",
       "      <td>50825</td>\n",
       "      <td>...</td>\n",
       "      <td>Webster Butler</td>\n",
       "      <td>39.0</td>\n",
       "      <td>Google Search</td>\n",
       "      <td>Fully Meets</td>\n",
       "      <td>5.00</td>\n",
       "      <td>4</td>\n",
       "      <td>0</td>\n",
       "      <td>02-01-2016</td>\n",
       "      <td>0</td>\n",
       "      <td>2</td>\n",
       "    </tr>\n",
       "  </tbody>\n",
       "</table>\n",
       "<p>5 rows × 36 columns</p>\n",
       "</div>"
      ],
      "text/plain": [
       "              Employee_Name  EmpID  MarriedID  MaritalStatusID  GenderID  \\\n",
       "0       Adinolfi, Wilson  K  10026          0                0         1   \n",
       "1  Ait Sidi, Karthikeyan     10084          1                1         1   \n",
       "2         Akinkuolie, Sarah  10196          1                1         0   \n",
       "3              Alagbe,Trina  10088          1                1         0   \n",
       "4          Anderson, Carol   10069          0                2         0   \n",
       "\n",
       "   EmpStatusID  DeptID  PerfScoreID  FromDiversityJobFairID  Salary  ...  \\\n",
       "0            1       5            4                       0   62506  ...   \n",
       "1            5       3            3                       0  104437  ...   \n",
       "2            5       5            3                       0   64955  ...   \n",
       "3            1       5            3                       0   64991  ...   \n",
       "4            5       5            3                       0   50825  ...   \n",
       "\n",
       "      ManagerName  ManagerID RecruitmentSource PerformanceScore  \\\n",
       "0  Michael Albert       22.0          LinkedIn          Exceeds   \n",
       "1      Simon Roup        4.0            Indeed      Fully Meets   \n",
       "2  Kissy Sullivan       20.0          LinkedIn      Fully Meets   \n",
       "3    Elijiah Gray       16.0            Indeed      Fully Meets   \n",
       "4  Webster Butler       39.0     Google Search      Fully Meets   \n",
       "\n",
       "   EngagementSurvey EmpSatisfaction SpecialProjectsCount  \\\n",
       "0              4.60               5                    0   \n",
       "1              4.96               3                    6   \n",
       "2              3.02               3                    0   \n",
       "3              4.84               5                    0   \n",
       "4              5.00               4                    0   \n",
       "\n",
       "  LastPerformanceReview_Date DaysLateLast30 Absences  \n",
       "0                  1/17/2019              0        1  \n",
       "1                  2/24/2016              0       17  \n",
       "2                  5/15/2012              0        3  \n",
       "3                 01-03-2019              0       15  \n",
       "4                 02-01-2016              0        2  \n",
       "\n",
       "[5 rows x 36 columns]"
      ]
     },
     "execution_count": 44,
     "metadata": {},
     "output_type": "execute_result"
    }
   ],
   "source": [
    "data.head()"
   ]
  },
  {
   "cell_type": "code",
   "execution_count": 45,
   "id": "251b084c",
   "metadata": {},
   "outputs": [
    {
     "data": {
      "text/html": [
       "<div>\n",
       "<style scoped>\n",
       "    .dataframe tbody tr th:only-of-type {\n",
       "        vertical-align: middle;\n",
       "    }\n",
       "\n",
       "    .dataframe tbody tr th {\n",
       "        vertical-align: top;\n",
       "    }\n",
       "\n",
       "    .dataframe thead th {\n",
       "        text-align: right;\n",
       "    }\n",
       "</style>\n",
       "<table border=\"1\" class=\"dataframe\">\n",
       "  <thead>\n",
       "    <tr style=\"text-align: right;\">\n",
       "      <th></th>\n",
       "      <th>Employee_Name</th>\n",
       "      <th>EmpID</th>\n",
       "      <th>MarriedID</th>\n",
       "      <th>MaritalStatusID</th>\n",
       "      <th>GenderID</th>\n",
       "      <th>EmpStatusID</th>\n",
       "      <th>DeptID</th>\n",
       "      <th>PerfScoreID</th>\n",
       "      <th>FromDiversityJobFairID</th>\n",
       "      <th>Salary</th>\n",
       "      <th>...</th>\n",
       "      <th>ManagerName</th>\n",
       "      <th>ManagerID</th>\n",
       "      <th>RecruitmentSource</th>\n",
       "      <th>PerformanceScore</th>\n",
       "      <th>EngagementSurvey</th>\n",
       "      <th>EmpSatisfaction</th>\n",
       "      <th>SpecialProjectsCount</th>\n",
       "      <th>LastPerformanceReview_Date</th>\n",
       "      <th>DaysLateLast30</th>\n",
       "      <th>Absences</th>\n",
       "    </tr>\n",
       "  </thead>\n",
       "  <tbody>\n",
       "    <tr>\n",
       "      <th>306</th>\n",
       "      <td>Woodson, Jason</td>\n",
       "      <td>10135</td>\n",
       "      <td>0</td>\n",
       "      <td>0</td>\n",
       "      <td>1</td>\n",
       "      <td>1</td>\n",
       "      <td>5</td>\n",
       "      <td>3</td>\n",
       "      <td>0</td>\n",
       "      <td>65893</td>\n",
       "      <td>...</td>\n",
       "      <td>Kissy Sullivan</td>\n",
       "      <td>20.0</td>\n",
       "      <td>LinkedIn</td>\n",
       "      <td>Fully Meets</td>\n",
       "      <td>4.07</td>\n",
       "      <td>4</td>\n",
       "      <td>0</td>\n",
       "      <td>2/28/2019</td>\n",
       "      <td>0</td>\n",
       "      <td>13</td>\n",
       "    </tr>\n",
       "    <tr>\n",
       "      <th>307</th>\n",
       "      <td>Ybarra, Catherine</td>\n",
       "      <td>10301</td>\n",
       "      <td>0</td>\n",
       "      <td>0</td>\n",
       "      <td>0</td>\n",
       "      <td>5</td>\n",
       "      <td>5</td>\n",
       "      <td>1</td>\n",
       "      <td>0</td>\n",
       "      <td>48513</td>\n",
       "      <td>...</td>\n",
       "      <td>Brannon Miller</td>\n",
       "      <td>12.0</td>\n",
       "      <td>Google Search</td>\n",
       "      <td>PIP</td>\n",
       "      <td>3.20</td>\n",
       "      <td>2</td>\n",
       "      <td>0</td>\n",
       "      <td>09-02-2015</td>\n",
       "      <td>5</td>\n",
       "      <td>4</td>\n",
       "    </tr>\n",
       "    <tr>\n",
       "      <th>308</th>\n",
       "      <td>Zamora, Jennifer</td>\n",
       "      <td>10010</td>\n",
       "      <td>0</td>\n",
       "      <td>0</td>\n",
       "      <td>0</td>\n",
       "      <td>1</td>\n",
       "      <td>3</td>\n",
       "      <td>4</td>\n",
       "      <td>0</td>\n",
       "      <td>220450</td>\n",
       "      <td>...</td>\n",
       "      <td>Janet King</td>\n",
       "      <td>2.0</td>\n",
       "      <td>Employee Referral</td>\n",
       "      <td>Exceeds</td>\n",
       "      <td>4.60</td>\n",
       "      <td>5</td>\n",
       "      <td>6</td>\n",
       "      <td>2/21/2019</td>\n",
       "      <td>0</td>\n",
       "      <td>16</td>\n",
       "    </tr>\n",
       "    <tr>\n",
       "      <th>309</th>\n",
       "      <td>Zhou, Julia</td>\n",
       "      <td>10043</td>\n",
       "      <td>0</td>\n",
       "      <td>0</td>\n",
       "      <td>0</td>\n",
       "      <td>1</td>\n",
       "      <td>3</td>\n",
       "      <td>3</td>\n",
       "      <td>0</td>\n",
       "      <td>89292</td>\n",
       "      <td>...</td>\n",
       "      <td>Simon Roup</td>\n",
       "      <td>4.0</td>\n",
       "      <td>Employee Referral</td>\n",
       "      <td>Fully Meets</td>\n",
       "      <td>5.00</td>\n",
       "      <td>3</td>\n",
       "      <td>5</td>\n",
       "      <td>02-01-2019</td>\n",
       "      <td>0</td>\n",
       "      <td>11</td>\n",
       "    </tr>\n",
       "    <tr>\n",
       "      <th>310</th>\n",
       "      <td>Zima, Colleen</td>\n",
       "      <td>10271</td>\n",
       "      <td>0</td>\n",
       "      <td>4</td>\n",
       "      <td>0</td>\n",
       "      <td>1</td>\n",
       "      <td>5</td>\n",
       "      <td>3</td>\n",
       "      <td>0</td>\n",
       "      <td>45046</td>\n",
       "      <td>...</td>\n",
       "      <td>David Stanley</td>\n",
       "      <td>14.0</td>\n",
       "      <td>LinkedIn</td>\n",
       "      <td>Fully Meets</td>\n",
       "      <td>4.50</td>\n",
       "      <td>5</td>\n",
       "      <td>0</td>\n",
       "      <td>1/30/2019</td>\n",
       "      <td>0</td>\n",
       "      <td>2</td>\n",
       "    </tr>\n",
       "  </tbody>\n",
       "</table>\n",
       "<p>5 rows × 36 columns</p>\n",
       "</div>"
      ],
      "text/plain": [
       "          Employee_Name  EmpID  MarriedID  MaritalStatusID  GenderID  \\\n",
       "306      Woodson, Jason  10135          0                0         1   \n",
       "307  Ybarra, Catherine   10301          0                0         0   \n",
       "308    Zamora, Jennifer  10010          0                0         0   \n",
       "309         Zhou, Julia  10043          0                0         0   \n",
       "310       Zima, Colleen  10271          0                4         0   \n",
       "\n",
       "     EmpStatusID  DeptID  PerfScoreID  FromDiversityJobFairID  Salary  ...  \\\n",
       "306            1       5            3                       0   65893  ...   \n",
       "307            5       5            1                       0   48513  ...   \n",
       "308            1       3            4                       0  220450  ...   \n",
       "309            1       3            3                       0   89292  ...   \n",
       "310            1       5            3                       0   45046  ...   \n",
       "\n",
       "        ManagerName  ManagerID  RecruitmentSource PerformanceScore  \\\n",
       "306  Kissy Sullivan       20.0           LinkedIn      Fully Meets   \n",
       "307  Brannon Miller       12.0      Google Search              PIP   \n",
       "308      Janet King        2.0  Employee Referral          Exceeds   \n",
       "309      Simon Roup        4.0  Employee Referral      Fully Meets   \n",
       "310   David Stanley       14.0           LinkedIn      Fully Meets   \n",
       "\n",
       "     EngagementSurvey EmpSatisfaction SpecialProjectsCount  \\\n",
       "306              4.07               4                    0   \n",
       "307              3.20               2                    0   \n",
       "308              4.60               5                    6   \n",
       "309              5.00               3                    5   \n",
       "310              4.50               5                    0   \n",
       "\n",
       "    LastPerformanceReview_Date DaysLateLast30 Absences  \n",
       "306                  2/28/2019              0       13  \n",
       "307                 09-02-2015              5        4  \n",
       "308                  2/21/2019              0       16  \n",
       "309                 02-01-2019              0       11  \n",
       "310                  1/30/2019              0        2  \n",
       "\n",
       "[5 rows x 36 columns]"
      ]
     },
     "execution_count": 45,
     "metadata": {},
     "output_type": "execute_result"
    }
   ],
   "source": [
    "data.tail()"
   ]
  },
  {
   "cell_type": "code",
   "execution_count": 46,
   "id": "5be2e5be",
   "metadata": {},
   "outputs": [
    {
     "data": {
      "text/plain": [
       "Index(['Employee_Name', 'EmpID', 'MarriedID', 'MaritalStatusID', 'GenderID',\n",
       "       'EmpStatusID', 'DeptID', 'PerfScoreID', 'FromDiversityJobFairID',\n",
       "       'Salary', 'Termd', 'PositionID', 'Position', 'State', 'Zip', 'DOB',\n",
       "       'Sex', 'MaritalDesc', 'CitizenDesc', 'HispanicLatino', 'RaceDesc',\n",
       "       'DateofHire', 'DateofTermination', 'TermReason', 'EmploymentStatus',\n",
       "       'Department', 'ManagerName', 'ManagerID', 'RecruitmentSource',\n",
       "       'PerformanceScore', 'EngagementSurvey', 'EmpSatisfaction',\n",
       "       'SpecialProjectsCount', 'LastPerformanceReview_Date', 'DaysLateLast30',\n",
       "       'Absences'],\n",
       "      dtype='object')"
      ]
     },
     "execution_count": 46,
     "metadata": {},
     "output_type": "execute_result"
    }
   ],
   "source": [
    "data.columns"
   ]
  },
  {
   "cell_type": "code",
   "execution_count": 47,
   "id": "29fbf937",
   "metadata": {},
   "outputs": [],
   "source": [
    "# eliminate unnecessary columns"
   ]
  },
  {
   "cell_type": "code",
   "execution_count": 48,
   "id": "49c3f56b",
   "metadata": {},
   "outputs": [
    {
     "data": {
      "text/html": [
       "<div>\n",
       "<style scoped>\n",
       "    .dataframe tbody tr th:only-of-type {\n",
       "        vertical-align: middle;\n",
       "    }\n",
       "\n",
       "    .dataframe tbody tr th {\n",
       "        vertical-align: top;\n",
       "    }\n",
       "\n",
       "    .dataframe thead th {\n",
       "        text-align: right;\n",
       "    }\n",
       "</style>\n",
       "<table border=\"1\" class=\"dataframe\">\n",
       "  <thead>\n",
       "    <tr style=\"text-align: right;\">\n",
       "      <th></th>\n",
       "      <th>Employee_Name</th>\n",
       "      <th>EmpID</th>\n",
       "      <th>Salary</th>\n",
       "      <th>Position</th>\n",
       "      <th>State</th>\n",
       "      <th>DOB</th>\n",
       "      <th>Sex</th>\n",
       "      <th>MaritalDesc</th>\n",
       "      <th>RaceDesc</th>\n",
       "      <th>EmploymentStatus</th>\n",
       "      <th>TermReason</th>\n",
       "      <th>DateofTermination</th>\n",
       "      <th>Department</th>\n",
       "      <th>ManagerName</th>\n",
       "      <th>RecruitmentSource</th>\n",
       "      <th>PerformanceScore</th>\n",
       "      <th>EmpSatisfaction</th>\n",
       "      <th>Absences</th>\n",
       "    </tr>\n",
       "  </thead>\n",
       "  <tbody>\n",
       "    <tr>\n",
       "      <th>0</th>\n",
       "      <td>Adinolfi, Wilson  K</td>\n",
       "      <td>10026</td>\n",
       "      <td>62506</td>\n",
       "      <td>Production Technician I</td>\n",
       "      <td>MA</td>\n",
       "      <td>07-10-1983</td>\n",
       "      <td>M</td>\n",
       "      <td>Single</td>\n",
       "      <td>White</td>\n",
       "      <td>Active</td>\n",
       "      <td>N/A-StillEmployed</td>\n",
       "      <td>NaN</td>\n",
       "      <td>Production</td>\n",
       "      <td>Michael Albert</td>\n",
       "      <td>LinkedIn</td>\n",
       "      <td>Exceeds</td>\n",
       "      <td>5</td>\n",
       "      <td>1</td>\n",
       "    </tr>\n",
       "    <tr>\n",
       "      <th>1</th>\n",
       "      <td>Ait Sidi, Karthikeyan</td>\n",
       "      <td>10084</td>\n",
       "      <td>104437</td>\n",
       "      <td>Sr. DBA</td>\n",
       "      <td>MA</td>\n",
       "      <td>05-05-1975</td>\n",
       "      <td>M</td>\n",
       "      <td>Married</td>\n",
       "      <td>White</td>\n",
       "      <td>Voluntarily Terminated</td>\n",
       "      <td>career change</td>\n",
       "      <td>6/16/2016</td>\n",
       "      <td>IT/IS</td>\n",
       "      <td>Simon Roup</td>\n",
       "      <td>Indeed</td>\n",
       "      <td>Fully Meets</td>\n",
       "      <td>3</td>\n",
       "      <td>17</td>\n",
       "    </tr>\n",
       "    <tr>\n",
       "      <th>2</th>\n",
       "      <td>Akinkuolie, Sarah</td>\n",
       "      <td>10196</td>\n",
       "      <td>64955</td>\n",
       "      <td>Production Technician II</td>\n",
       "      <td>MA</td>\n",
       "      <td>09/19/88</td>\n",
       "      <td>F</td>\n",
       "      <td>Married</td>\n",
       "      <td>White</td>\n",
       "      <td>Voluntarily Terminated</td>\n",
       "      <td>hours</td>\n",
       "      <td>9/24/2012</td>\n",
       "      <td>Production</td>\n",
       "      <td>Kissy Sullivan</td>\n",
       "      <td>LinkedIn</td>\n",
       "      <td>Fully Meets</td>\n",
       "      <td>3</td>\n",
       "      <td>3</td>\n",
       "    </tr>\n",
       "    <tr>\n",
       "      <th>3</th>\n",
       "      <td>Alagbe,Trina</td>\n",
       "      <td>10088</td>\n",
       "      <td>64991</td>\n",
       "      <td>Production Technician I</td>\n",
       "      <td>MA</td>\n",
       "      <td>09/27/88</td>\n",
       "      <td>F</td>\n",
       "      <td>Married</td>\n",
       "      <td>White</td>\n",
       "      <td>Active</td>\n",
       "      <td>N/A-StillEmployed</td>\n",
       "      <td>NaN</td>\n",
       "      <td>Production</td>\n",
       "      <td>Elijiah Gray</td>\n",
       "      <td>Indeed</td>\n",
       "      <td>Fully Meets</td>\n",
       "      <td>5</td>\n",
       "      <td>15</td>\n",
       "    </tr>\n",
       "    <tr>\n",
       "      <th>4</th>\n",
       "      <td>Anderson, Carol</td>\n",
       "      <td>10069</td>\n",
       "      <td>50825</td>\n",
       "      <td>Production Technician I</td>\n",
       "      <td>MA</td>\n",
       "      <td>09-08-1989</td>\n",
       "      <td>F</td>\n",
       "      <td>Divorced</td>\n",
       "      <td>White</td>\n",
       "      <td>Voluntarily Terminated</td>\n",
       "      <td>return to school</td>\n",
       "      <td>09-06-2016</td>\n",
       "      <td>Production</td>\n",
       "      <td>Webster Butler</td>\n",
       "      <td>Google Search</td>\n",
       "      <td>Fully Meets</td>\n",
       "      <td>4</td>\n",
       "      <td>2</td>\n",
       "    </tr>\n",
       "    <tr>\n",
       "      <th>...</th>\n",
       "      <td>...</td>\n",
       "      <td>...</td>\n",
       "      <td>...</td>\n",
       "      <td>...</td>\n",
       "      <td>...</td>\n",
       "      <td>...</td>\n",
       "      <td>...</td>\n",
       "      <td>...</td>\n",
       "      <td>...</td>\n",
       "      <td>...</td>\n",
       "      <td>...</td>\n",
       "      <td>...</td>\n",
       "      <td>...</td>\n",
       "      <td>...</td>\n",
       "      <td>...</td>\n",
       "      <td>...</td>\n",
       "      <td>...</td>\n",
       "      <td>...</td>\n",
       "    </tr>\n",
       "    <tr>\n",
       "      <th>306</th>\n",
       "      <td>Woodson, Jason</td>\n",
       "      <td>10135</td>\n",
       "      <td>65893</td>\n",
       "      <td>Production Technician II</td>\n",
       "      <td>MA</td>\n",
       "      <td>05-11-1985</td>\n",
       "      <td>M</td>\n",
       "      <td>Single</td>\n",
       "      <td>White</td>\n",
       "      <td>Active</td>\n",
       "      <td>N/A-StillEmployed</td>\n",
       "      <td>NaN</td>\n",
       "      <td>Production</td>\n",
       "      <td>Kissy Sullivan</td>\n",
       "      <td>LinkedIn</td>\n",
       "      <td>Fully Meets</td>\n",
       "      <td>4</td>\n",
       "      <td>13</td>\n",
       "    </tr>\n",
       "    <tr>\n",
       "      <th>307</th>\n",
       "      <td>Ybarra, Catherine</td>\n",
       "      <td>10301</td>\n",
       "      <td>48513</td>\n",
       "      <td>Production Technician I</td>\n",
       "      <td>MA</td>\n",
       "      <td>05-04-1982</td>\n",
       "      <td>F</td>\n",
       "      <td>Single</td>\n",
       "      <td>Asian</td>\n",
       "      <td>Voluntarily Terminated</td>\n",
       "      <td>Another position</td>\n",
       "      <td>9/29/2015</td>\n",
       "      <td>Production</td>\n",
       "      <td>Brannon Miller</td>\n",
       "      <td>Google Search</td>\n",
       "      <td>PIP</td>\n",
       "      <td>2</td>\n",
       "      <td>4</td>\n",
       "    </tr>\n",
       "    <tr>\n",
       "      <th>308</th>\n",
       "      <td>Zamora, Jennifer</td>\n",
       "      <td>10010</td>\n",
       "      <td>220450</td>\n",
       "      <td>CIO</td>\n",
       "      <td>MA</td>\n",
       "      <td>08/30/79</td>\n",
       "      <td>F</td>\n",
       "      <td>Single</td>\n",
       "      <td>White</td>\n",
       "      <td>Active</td>\n",
       "      <td>N/A-StillEmployed</td>\n",
       "      <td>NaN</td>\n",
       "      <td>IT/IS</td>\n",
       "      <td>Janet King</td>\n",
       "      <td>Employee Referral</td>\n",
       "      <td>Exceeds</td>\n",
       "      <td>5</td>\n",
       "      <td>16</td>\n",
       "    </tr>\n",
       "    <tr>\n",
       "      <th>309</th>\n",
       "      <td>Zhou, Julia</td>\n",
       "      <td>10043</td>\n",
       "      <td>89292</td>\n",
       "      <td>Data Analyst</td>\n",
       "      <td>MA</td>\n",
       "      <td>02/24/79</td>\n",
       "      <td>F</td>\n",
       "      <td>Single</td>\n",
       "      <td>White</td>\n",
       "      <td>Active</td>\n",
       "      <td>N/A-StillEmployed</td>\n",
       "      <td>NaN</td>\n",
       "      <td>IT/IS</td>\n",
       "      <td>Simon Roup</td>\n",
       "      <td>Employee Referral</td>\n",
       "      <td>Fully Meets</td>\n",
       "      <td>3</td>\n",
       "      <td>11</td>\n",
       "    </tr>\n",
       "    <tr>\n",
       "      <th>310</th>\n",
       "      <td>Zima, Colleen</td>\n",
       "      <td>10271</td>\n",
       "      <td>45046</td>\n",
       "      <td>Production Technician I</td>\n",
       "      <td>MA</td>\n",
       "      <td>08/17/78</td>\n",
       "      <td>F</td>\n",
       "      <td>Widowed</td>\n",
       "      <td>Asian</td>\n",
       "      <td>Active</td>\n",
       "      <td>N/A-StillEmployed</td>\n",
       "      <td>NaN</td>\n",
       "      <td>Production</td>\n",
       "      <td>David Stanley</td>\n",
       "      <td>LinkedIn</td>\n",
       "      <td>Fully Meets</td>\n",
       "      <td>5</td>\n",
       "      <td>2</td>\n",
       "    </tr>\n",
       "  </tbody>\n",
       "</table>\n",
       "<p>311 rows × 18 columns</p>\n",
       "</div>"
      ],
      "text/plain": [
       "                Employee_Name  EmpID  Salary                  Position State  \\\n",
       "0         Adinolfi, Wilson  K  10026   62506   Production Technician I    MA   \n",
       "1    Ait Sidi, Karthikeyan     10084  104437                   Sr. DBA    MA   \n",
       "2           Akinkuolie, Sarah  10196   64955  Production Technician II    MA   \n",
       "3                Alagbe,Trina  10088   64991   Production Technician I    MA   \n",
       "4            Anderson, Carol   10069   50825   Production Technician I    MA   \n",
       "..                        ...    ...     ...                       ...   ...   \n",
       "306            Woodson, Jason  10135   65893  Production Technician II    MA   \n",
       "307        Ybarra, Catherine   10301   48513   Production Technician I    MA   \n",
       "308          Zamora, Jennifer  10010  220450                       CIO    MA   \n",
       "309               Zhou, Julia  10043   89292              Data Analyst    MA   \n",
       "310             Zima, Colleen  10271   45046   Production Technician I    MA   \n",
       "\n",
       "            DOB Sex MaritalDesc RaceDesc        EmploymentStatus  \\\n",
       "0    07-10-1983  M       Single    White                  Active   \n",
       "1    05-05-1975  M      Married    White  Voluntarily Terminated   \n",
       "2      09/19/88   F     Married    White  Voluntarily Terminated   \n",
       "3      09/27/88   F     Married    White                  Active   \n",
       "4    09-08-1989   F    Divorced    White  Voluntarily Terminated   \n",
       "..          ...  ..         ...      ...                     ...   \n",
       "306  05-11-1985  M       Single    White                  Active   \n",
       "307  05-04-1982   F      Single    Asian  Voluntarily Terminated   \n",
       "308    08/30/79   F      Single    White                  Active   \n",
       "309    02/24/79   F      Single    White                  Active   \n",
       "310    08/17/78   F     Widowed    Asian                  Active   \n",
       "\n",
       "            TermReason DateofTermination         Department     ManagerName  \\\n",
       "0    N/A-StillEmployed               NaN  Production         Michael Albert   \n",
       "1        career change         6/16/2016              IT/IS      Simon Roup   \n",
       "2                hours         9/24/2012  Production         Kissy Sullivan   \n",
       "3    N/A-StillEmployed               NaN  Production           Elijiah Gray   \n",
       "4     return to school        09-06-2016  Production         Webster Butler   \n",
       "..                 ...               ...                ...             ...   \n",
       "306  N/A-StillEmployed               NaN  Production         Kissy Sullivan   \n",
       "307   Another position         9/29/2015  Production         Brannon Miller   \n",
       "308  N/A-StillEmployed               NaN              IT/IS      Janet King   \n",
       "309  N/A-StillEmployed               NaN              IT/IS      Simon Roup   \n",
       "310  N/A-StillEmployed               NaN  Production          David Stanley   \n",
       "\n",
       "     RecruitmentSource PerformanceScore  EmpSatisfaction  Absences  \n",
       "0             LinkedIn          Exceeds                5         1  \n",
       "1               Indeed      Fully Meets                3        17  \n",
       "2             LinkedIn      Fully Meets                3         3  \n",
       "3               Indeed      Fully Meets                5        15  \n",
       "4        Google Search      Fully Meets                4         2  \n",
       "..                 ...              ...              ...       ...  \n",
       "306           LinkedIn      Fully Meets                4        13  \n",
       "307      Google Search              PIP                2         4  \n",
       "308  Employee Referral          Exceeds                5        16  \n",
       "309  Employee Referral      Fully Meets                3        11  \n",
       "310           LinkedIn      Fully Meets                5         2  \n",
       "\n",
       "[311 rows x 18 columns]"
      ]
     },
     "execution_count": 48,
     "metadata": {},
     "output_type": "execute_result"
    }
   ],
   "source": [
    "data1=data[['Employee_Name','EmpID','Salary','Position','State','DOB','Sex','MaritalDesc','RaceDesc','EmploymentStatus','TermReason','DateofTermination','Department','ManagerName','RecruitmentSource','PerformanceScore','EmpSatisfaction','Absences']]\n",
    "data1  "
   ]
  },
  {
   "cell_type": "code",
   "execution_count": 49,
   "id": "b833d9b5",
   "metadata": {},
   "outputs": [
    {
     "data": {
      "text/plain": [
       "(311, 18)"
      ]
     },
     "execution_count": 49,
     "metadata": {},
     "output_type": "execute_result"
    }
   ],
   "source": [
    "data1.shape"
   ]
  },
  {
   "cell_type": "code",
   "execution_count": 50,
   "id": "d8759ac2",
   "metadata": {},
   "outputs": [
    {
     "data": {
      "text/plain": [
       "Index(['Employee_Name', 'EmpID', 'Salary', 'Position', 'State', 'DOB', 'Sex',\n",
       "       'MaritalDesc', 'RaceDesc', 'EmploymentStatus', 'TermReason',\n",
       "       'DateofTermination', 'Department', 'ManagerName', 'RecruitmentSource',\n",
       "       'PerformanceScore', 'EmpSatisfaction', 'Absences'],\n",
       "      dtype='object')"
      ]
     },
     "execution_count": 50,
     "metadata": {},
     "output_type": "execute_result"
    }
   ],
   "source": [
    "data1.columns"
   ]
  },
  {
   "cell_type": "code",
   "execution_count": 51,
   "id": "2d89995c",
   "metadata": {},
   "outputs": [],
   "source": [
    "# Get The Basic Information Of Data "
   ]
  },
  {
   "cell_type": "code",
   "execution_count": 52,
   "id": "675db2be",
   "metadata": {},
   "outputs": [
    {
     "data": {
      "text/plain": [
       "<bound method DataFrame.info of                 Employee_Name  EmpID  Salary                  Position State  \\\n",
       "0         Adinolfi, Wilson  K  10026   62506   Production Technician I    MA   \n",
       "1    Ait Sidi, Karthikeyan     10084  104437                   Sr. DBA    MA   \n",
       "2           Akinkuolie, Sarah  10196   64955  Production Technician II    MA   \n",
       "3                Alagbe,Trina  10088   64991   Production Technician I    MA   \n",
       "4            Anderson, Carol   10069   50825   Production Technician I    MA   \n",
       "..                        ...    ...     ...                       ...   ...   \n",
       "306            Woodson, Jason  10135   65893  Production Technician II    MA   \n",
       "307        Ybarra, Catherine   10301   48513   Production Technician I    MA   \n",
       "308          Zamora, Jennifer  10010  220450                       CIO    MA   \n",
       "309               Zhou, Julia  10043   89292              Data Analyst    MA   \n",
       "310             Zima, Colleen  10271   45046   Production Technician I    MA   \n",
       "\n",
       "            DOB Sex MaritalDesc RaceDesc        EmploymentStatus  \\\n",
       "0    07-10-1983  M       Single    White                  Active   \n",
       "1    05-05-1975  M      Married    White  Voluntarily Terminated   \n",
       "2      09/19/88   F     Married    White  Voluntarily Terminated   \n",
       "3      09/27/88   F     Married    White                  Active   \n",
       "4    09-08-1989   F    Divorced    White  Voluntarily Terminated   \n",
       "..          ...  ..         ...      ...                     ...   \n",
       "306  05-11-1985  M       Single    White                  Active   \n",
       "307  05-04-1982   F      Single    Asian  Voluntarily Terminated   \n",
       "308    08/30/79   F      Single    White                  Active   \n",
       "309    02/24/79   F      Single    White                  Active   \n",
       "310    08/17/78   F     Widowed    Asian                  Active   \n",
       "\n",
       "            TermReason DateofTermination         Department     ManagerName  \\\n",
       "0    N/A-StillEmployed               NaN  Production         Michael Albert   \n",
       "1        career change         6/16/2016              IT/IS      Simon Roup   \n",
       "2                hours         9/24/2012  Production         Kissy Sullivan   \n",
       "3    N/A-StillEmployed               NaN  Production           Elijiah Gray   \n",
       "4     return to school        09-06-2016  Production         Webster Butler   \n",
       "..                 ...               ...                ...             ...   \n",
       "306  N/A-StillEmployed               NaN  Production         Kissy Sullivan   \n",
       "307   Another position         9/29/2015  Production         Brannon Miller   \n",
       "308  N/A-StillEmployed               NaN              IT/IS      Janet King   \n",
       "309  N/A-StillEmployed               NaN              IT/IS      Simon Roup   \n",
       "310  N/A-StillEmployed               NaN  Production          David Stanley   \n",
       "\n",
       "     RecruitmentSource PerformanceScore  EmpSatisfaction  Absences  \n",
       "0             LinkedIn          Exceeds                5         1  \n",
       "1               Indeed      Fully Meets                3        17  \n",
       "2             LinkedIn      Fully Meets                3         3  \n",
       "3               Indeed      Fully Meets                5        15  \n",
       "4        Google Search      Fully Meets                4         2  \n",
       "..                 ...              ...              ...       ...  \n",
       "306           LinkedIn      Fully Meets                4        13  \n",
       "307      Google Search              PIP                2         4  \n",
       "308  Employee Referral          Exceeds                5        16  \n",
       "309  Employee Referral      Fully Meets                3        11  \n",
       "310           LinkedIn      Fully Meets                5         2  \n",
       "\n",
       "[311 rows x 18 columns]>"
      ]
     },
     "execution_count": 52,
     "metadata": {},
     "output_type": "execute_result"
    }
   ],
   "source": [
    "data1.info"
   ]
  },
  {
   "cell_type": "code",
   "execution_count": 53,
   "id": "cd308da4",
   "metadata": {},
   "outputs": [
    {
     "data": {
      "text/html": [
       "<div>\n",
       "<style scoped>\n",
       "    .dataframe tbody tr th:only-of-type {\n",
       "        vertical-align: middle;\n",
       "    }\n",
       "\n",
       "    .dataframe tbody tr th {\n",
       "        vertical-align: top;\n",
       "    }\n",
       "\n",
       "    .dataframe thead th {\n",
       "        text-align: right;\n",
       "    }\n",
       "</style>\n",
       "<table border=\"1\" class=\"dataframe\">\n",
       "  <thead>\n",
       "    <tr style=\"text-align: right;\">\n",
       "      <th></th>\n",
       "      <th>EmpID</th>\n",
       "      <th>Salary</th>\n",
       "      <th>EmpSatisfaction</th>\n",
       "      <th>Absences</th>\n",
       "    </tr>\n",
       "  </thead>\n",
       "  <tbody>\n",
       "    <tr>\n",
       "      <th>count</th>\n",
       "      <td>311.000000</td>\n",
       "      <td>311.000000</td>\n",
       "      <td>311.000000</td>\n",
       "      <td>311.000000</td>\n",
       "    </tr>\n",
       "    <tr>\n",
       "      <th>mean</th>\n",
       "      <td>10156.000000</td>\n",
       "      <td>69020.684887</td>\n",
       "      <td>3.890675</td>\n",
       "      <td>10.237942</td>\n",
       "    </tr>\n",
       "    <tr>\n",
       "      <th>std</th>\n",
       "      <td>89.922189</td>\n",
       "      <td>25156.636930</td>\n",
       "      <td>0.909241</td>\n",
       "      <td>5.852596</td>\n",
       "    </tr>\n",
       "    <tr>\n",
       "      <th>min</th>\n",
       "      <td>10001.000000</td>\n",
       "      <td>45046.000000</td>\n",
       "      <td>1.000000</td>\n",
       "      <td>1.000000</td>\n",
       "    </tr>\n",
       "    <tr>\n",
       "      <th>25%</th>\n",
       "      <td>10078.500000</td>\n",
       "      <td>55501.500000</td>\n",
       "      <td>3.000000</td>\n",
       "      <td>5.000000</td>\n",
       "    </tr>\n",
       "    <tr>\n",
       "      <th>50%</th>\n",
       "      <td>10156.000000</td>\n",
       "      <td>62810.000000</td>\n",
       "      <td>4.000000</td>\n",
       "      <td>10.000000</td>\n",
       "    </tr>\n",
       "    <tr>\n",
       "      <th>75%</th>\n",
       "      <td>10233.500000</td>\n",
       "      <td>72036.000000</td>\n",
       "      <td>5.000000</td>\n",
       "      <td>15.000000</td>\n",
       "    </tr>\n",
       "    <tr>\n",
       "      <th>max</th>\n",
       "      <td>10311.000000</td>\n",
       "      <td>250000.000000</td>\n",
       "      <td>5.000000</td>\n",
       "      <td>20.000000</td>\n",
       "    </tr>\n",
       "  </tbody>\n",
       "</table>\n",
       "</div>"
      ],
      "text/plain": [
       "              EmpID         Salary  EmpSatisfaction    Absences\n",
       "count    311.000000     311.000000       311.000000  311.000000\n",
       "mean   10156.000000   69020.684887         3.890675   10.237942\n",
       "std       89.922189   25156.636930         0.909241    5.852596\n",
       "min    10001.000000   45046.000000         1.000000    1.000000\n",
       "25%    10078.500000   55501.500000         3.000000    5.000000\n",
       "50%    10156.000000   62810.000000         4.000000   10.000000\n",
       "75%    10233.500000   72036.000000         5.000000   15.000000\n",
       "max    10311.000000  250000.000000         5.000000   20.000000"
      ]
     },
     "execution_count": 53,
     "metadata": {},
     "output_type": "execute_result"
    }
   ],
   "source": [
    "data1.describe()"
   ]
  },
  {
   "cell_type": "code",
   "execution_count": 54,
   "id": "f1c0858a",
   "metadata": {},
   "outputs": [
    {
     "data": {
      "text/plain": [
       "Employee_Name        object\n",
       "EmpID                 int64\n",
       "Salary                int64\n",
       "Position             object\n",
       "State                object\n",
       "DOB                  object\n",
       "Sex                  object\n",
       "MaritalDesc          object\n",
       "RaceDesc             object\n",
       "EmploymentStatus     object\n",
       "TermReason           object\n",
       "DateofTermination    object\n",
       "Department           object\n",
       "ManagerName          object\n",
       "RecruitmentSource    object\n",
       "PerformanceScore     object\n",
       "EmpSatisfaction       int64\n",
       "Absences              int64\n",
       "dtype: object"
      ]
     },
     "execution_count": 54,
     "metadata": {},
     "output_type": "execute_result"
    }
   ],
   "source": [
    "data1.dtypes"
   ]
  },
  {
   "cell_type": "markdown",
   "id": "c82d0e1e",
   "metadata": {},
   "source": [
    "# FIND NULL VALUES"
   ]
  },
  {
   "cell_type": "code",
   "execution_count": 55,
   "id": "84401fdd",
   "metadata": {},
   "outputs": [
    {
     "data": {
      "text/plain": [
       "Employee_Name          0\n",
       "EmpID                  0\n",
       "Salary                 0\n",
       "Position               0\n",
       "State                  0\n",
       "DOB                    0\n",
       "Sex                    0\n",
       "MaritalDesc            0\n",
       "RaceDesc               0\n",
       "EmploymentStatus       0\n",
       "TermReason             0\n",
       "DateofTermination    207\n",
       "Department             0\n",
       "ManagerName            0\n",
       "RecruitmentSource      0\n",
       "PerformanceScore       0\n",
       "EmpSatisfaction        0\n",
       "Absences               0\n",
       "dtype: int64"
      ]
     },
     "execution_count": 55,
     "metadata": {},
     "output_type": "execute_result"
    }
   ],
   "source": [
    "data1.isnull().sum()"
   ]
  },
  {
   "cell_type": "markdown",
   "id": "0d3cd2e6",
   "metadata": {},
   "source": [
    "# REPLACE NULL VALUES"
   ]
  },
  {
   "cell_type": "code",
   "execution_count": 56,
   "id": "199ebc4e",
   "metadata": {},
   "outputs": [
    {
     "name": "stderr",
     "output_type": "stream",
     "text": [
      "C:\\Users\\Admin\\AppData\\Local\\Temp\\ipykernel_6860\\445207178.py:1: SettingWithCopyWarning: \n",
      "A value is trying to be set on a copy of a slice from a DataFrame.\n",
      "Try using .loc[row_indexer,col_indexer] = value instead\n",
      "\n",
      "See the caveats in the documentation: https://pandas.pydata.org/pandas-docs/stable/user_guide/indexing.html#returning-a-view-versus-a-copy\n",
      "  data1[\"DateofTermination\"]=data1[\"DateofTermination\"].replace(np.nan,0)\n"
     ]
    }
   ],
   "source": [
    "data1[\"DateofTermination\"]=data1[\"DateofTermination\"].replace(np.nan,0)"
   ]
  },
  {
   "cell_type": "code",
   "execution_count": 57,
   "id": "bc3ab2ee",
   "metadata": {},
   "outputs": [
    {
     "data": {
      "text/plain": [
       "Employee_Name        0\n",
       "EmpID                0\n",
       "Salary               0\n",
       "Position             0\n",
       "State                0\n",
       "DOB                  0\n",
       "Sex                  0\n",
       "MaritalDesc          0\n",
       "RaceDesc             0\n",
       "EmploymentStatus     0\n",
       "TermReason           0\n",
       "DateofTermination    0\n",
       "Department           0\n",
       "ManagerName          0\n",
       "RecruitmentSource    0\n",
       "PerformanceScore     0\n",
       "EmpSatisfaction      0\n",
       "Absences             0\n",
       "dtype: int64"
      ]
     },
     "execution_count": 57,
     "metadata": {},
     "output_type": "execute_result"
    }
   ],
   "source": [
    "data1.isnull().sum()"
   ]
  },
  {
   "cell_type": "code",
   "execution_count": 58,
   "id": "7bccffef",
   "metadata": {},
   "outputs": [],
   "source": [
    "# from above we can conclude that there are no null values"
   ]
  },
  {
   "cell_type": "markdown",
   "id": "4fd0eab4",
   "metadata": {},
   "source": [
    "# EXPLORATORY DATA ANALYSIS"
   ]
  },
  {
   "cell_type": "markdown",
   "id": "5374982a",
   "metadata": {},
   "source": [
    "# Department With Highest Salary"
   ]
  },
  {
   "cell_type": "code",
   "execution_count": 59,
   "id": "8945334b",
   "metadata": {},
   "outputs": [
    {
     "data": {
      "image/png": "[encoded data removed]",
      "text/plain": [
       "<Figure size 1152x792 with 1 Axes>"
      ]
     },
     "metadata": {
      "needs_background": "light"
     },
     "output_type": "display_data"
    }
   ],
   "source": [
    "abz= plt.subplots(figsize=(16,11))\n",
    "sns.barplot(x=data1[\"Department\"],y=data1[\"Salary\"],palette=\"summer\",hue=data1[\"Sex\"])\n",
    "plt.xticks(rotation=90)\n",
    "plt.title(\"Department vs Salary \")\n",
    "plt.show()"
   ]
  },
  {
   "cell_type": "code",
   "execution_count": 60,
   "id": "962f1a37",
   "metadata": {},
   "outputs": [],
   "source": [
    "# From above we can conclude that deptartment EXECUTIVE OFFICE has highest salary\n",
    "# From above we can also conclude that department EXECUTIVE OFFICE has only FEMALE EMPLOYEES."
   ]
  },
  {
   "cell_type": "markdown",
   "id": "c679a0ad",
   "metadata": {},
   "source": [
    "# Top 5 Positions With Highest Employee Satisfaction"
   ]
  },
  {
   "cell_type": "code",
   "execution_count": 61,
   "id": "10ad55e0",
   "metadata": {},
   "outputs": [
    {
     "data": {
      "image/png": "[encoded data removed]",
      "text/plain": [
       "<Figure size 432x288 with 1 Axes>"
      ]
     },
     "metadata": {
      "needs_background": "light"
     },
     "output_type": "display_data"
    }
   ],
   "source": [
    "sns.lineplot(x=data1[\"Position\"].value_counts()[:5].index,y=data1[\"EmpSatisfaction\"].value_counts()[:5].index,color=\"red\")\n",
    "plt.xticks(rotation=90)\n",
    "plt.title(\"Position With Highest Employee Satisfaction\")\n",
    "plt.show()"
   ]
  },
  {
   "cell_type": "code",
   "execution_count": 62,
   "id": "7d8b64a2",
   "metadata": {},
   "outputs": [],
   "source": [
    "# from above we can conclude that position PRODUCTION TECHNICIAN II is with highest employee satisfaction"
   ]
  },
  {
   "cell_type": "markdown",
   "id": "7caf5880",
   "metadata": {},
   "source": [
    "# Source With Highest Recruitment"
   ]
  },
  {
   "cell_type": "code",
   "execution_count": 63,
   "id": "744249a9",
   "metadata": {},
   "outputs": [
    {
     "data": {
      "image/png": "[encoded data removed]",
      "text/plain": [
       "<Figure size 432x288 with 1 Axes>"
      ]
     },
     "metadata": {
      "needs_background": "light"
     },
     "output_type": "display_data"
    }
   ],
   "source": [
    "sns.countplot(x=data1[\"RecruitmentSource\"])\n",
    "plt.xticks(rotation=90)\n",
    "plt.show()"
   ]
  },
  {
   "cell_type": "code",
   "execution_count": 64,
   "id": "ab0781a2",
   "metadata": {},
   "outputs": [],
   "source": [
    "# from above we can conclude that most of the employees got recruited by source LINKEDIN"
   ]
  },
  {
   "cell_type": "markdown",
   "id": "ae7530e3",
   "metadata": {},
   "source": [
    "# DEPARTMENT WITH HIGHEST PERFORMANCE SCORE"
   ]
  },
  {
   "cell_type": "code",
   "execution_count": 65,
   "id": "e5382e61",
   "metadata": {},
   "outputs": [
    {
     "data": {
      "image/png": "[encoded data removed]",
      "text/plain": [
       "<Figure size 432x288 with 1 Axes>"
      ]
     },
     "metadata": {
      "needs_background": "light"
     },
     "output_type": "display_data"
    }
   ],
   "source": [
    "sns.stripplot(x=data1[\"Department\"],y=data1[\"PerformanceScore\"])\n",
    "plt.xticks(rotation=90)\n",
    "plt.title(\"Department Vs PerformanceScore\")\n",
    "plt.show()"
   ]
  },
  {
   "cell_type": "code",
   "execution_count": 66,
   "id": "5bd4f624",
   "metadata": {},
   "outputs": [],
   "source": [
    "# from above we can conclude that most of the employees from production dept EXCEEDS the expectation in their performance"
   ]
  },
  {
   "cell_type": "markdown",
   "id": "5c325886",
   "metadata": {},
   "source": [
    "# Employee_marital_status Vs PerformanceScore"
   ]
  },
  {
   "cell_type": "code",
   "execution_count": 67,
   "id": "05d706eb",
   "metadata": {},
   "outputs": [
    {
     "name": "stderr",
     "output_type": "stream",
     "text": [
      "C:\\Users\\Admin\\Anaconda3\\lib\\site-packages\\seaborn\\_decorators.py:36: FutureWarning: Pass the following variable as a keyword arg: x. From version 0.12, the only valid positional argument will be `data`, and passing other arguments without an explicit keyword will result in an error or misinterpretation.\n",
      "  warnings.warn(\n"
     ]
    },
    {
     "data": {
      "image/png": "[encoded data removed]",
      "text/plain": [
       "<Figure size 432x288 with 1 Axes>"
      ]
     },
     "metadata": {
      "needs_background": "light"
     },
     "output_type": "display_data"
    }
   ],
   "source": [
    "sns.scatterplot(data1.index,y=data1[\"MaritalDesc\"],hue=data1[\"Sex\"])\n",
    "plt.title(\"Employee_marital_status Vs PerformanceScore\")\n",
    "plt.show()"
   ]
  },
  {
   "cell_type": "code",
   "execution_count": 68,
   "id": "92401393",
   "metadata": {},
   "outputs": [],
   "source": [
    "# from above we can conclude that most of the employees are SINGLE\n",
    "# SINGLE > MARRIED > DIVORCED > SEPERATED > WIDOWED\n",
    "# Most of the female employees are seperated"
   ]
  },
  {
   "cell_type": "markdown",
   "id": "17ec6a9a",
   "metadata": {},
   "source": [
    "# PAIR PLOT"
   ]
  },
  {
   "cell_type": "code",
   "execution_count": 69,
   "id": "d1fffa21",
   "metadata": {},
   "outputs": [
    {
     "data": {
      "text/plain": [
       "<seaborn.axisgrid.PairGrid at 0x21ab90b1220>"
      ]
     },
     "execution_count": 69,
     "metadata": {},
     "output_type": "execute_result"
    },
    {
     "data": {
      "image/png": "[encoded data removed]",
      "text/plain": [
       "<Figure size 720x720 with 20 Axes>"
      ]
     },
     "metadata": {
      "needs_background": "light"
     },
     "output_type": "display_data"
    }
   ],
   "source": [
    "sns.pairplot(data1)"
   ]
  },
  {
   "cell_type": "markdown",
   "id": "543d0b27",
   "metadata": {},
   "source": [
    "# INSIGHTS"
   ]
  },
  {
   "cell_type": "code",
   "execution_count": 70,
   "id": "c8dd0957",
   "metadata": {},
   "outputs": [],
   "source": [
    "# From above we can conclude that deptartment EXECUTIVE OFFICE has highest salary\n",
    "# From above we can also conclude that department EXECUTIVE OFFICE has only FEMALE EMPLOYEES."
   ]
  },
  {
   "cell_type": "code",
   "execution_count": 71,
   "id": "313bb916",
   "metadata": {},
   "outputs": [],
   "source": [
    "# from above we can conclude that position PRODUCTION TECHNICIAN II is with highest employee satisfaction"
   ]
  },
  {
   "cell_type": "code",
   "execution_count": 72,
   "id": "4961f8bc",
   "metadata": {},
   "outputs": [],
   "source": [
    "# from above we can conclude that most of the employees got recruited by source LINKEDIN"
   ]
  },
  {
   "cell_type": "code",
   "execution_count": 73,
   "id": "135a54c7",
   "metadata": {},
   "outputs": [],
   "source": [
    "# from above we can conclude that most of the employees from production dept EXCEEDS the expectation in their performance"
   ]
  },
  {
   "cell_type": "code",
   "execution_count": 74,
   "id": "c92e5b01",
   "metadata": {},
   "outputs": [],
   "source": [
    "# from above we can conclude that most of the employees are SINGLE\n",
    "# SINGLE > MARRIED > DIVORCED > SEPERATED > WIDOWED\n",
    "# Most of the female employees are seperated"
   ]
  },
  {
   "cell_type": "code",
   "execution_count": null,
   "id": "70f77d35",
   "metadata": {},
   "outputs": [],
   "source": []
  }
 ],
 "metadata": {
  "kernelspec": {
   "display_name": "Python 3 (ipykernel)",
   "language": "python",
   "name": "python3"
  },
  "language_info": {
   "codemirror_mode": {
    "name": "ipython",
    "version": 3
   },
   "file_extension": ".py",
   "mimetype": "text/x-python",
   "name": "python",
   "nbconvert_exporter": "python",
   "pygments_lexer": "ipython3",
   "version": "3.9.12"
  }
 },
 "nbformat": 4,
 "nbformat_minor": 5
}
